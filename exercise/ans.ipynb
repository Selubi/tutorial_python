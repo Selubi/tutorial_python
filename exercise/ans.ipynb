{
 "cells": [
  {
   "cell_type": "code",
   "execution_count": 1,
   "metadata": {},
   "outputs": [
    {
     "name": "stdout",
     "output_type": "stream",
     "text": [
      "2\n"
     ]
    }
   ],
   "source": [
    "print(1+1)"
   ]
  },
  {
   "cell_type": "markdown",
   "metadata": {},
   "source": [
    "1"
   ]
  },
  {
   "cell_type": "code",
   "execution_count": 2,
   "metadata": {},
   "outputs": [
    {
     "name": "stdout",
     "output_type": "stream",
     "text": [
      "5050\n"
     ]
    }
   ],
   "source": [
    "x=0\n",
    "for i in range(1,101):\n",
    "    x+=i\n",
    "print(x)"
   ]
  },
  {
   "cell_type": "markdown",
   "metadata": {},
   "source": [
    "2"
   ]
  },
  {
   "cell_type": "code",
   "execution_count": 4,
   "metadata": {},
   "outputs": [
    {
     "name": "stdout",
     "output_type": "stream",
     "text": [
      "43\n",
      "<class 'int'>\n",
      "2408\n"
     ]
    }
   ],
   "source": [
    "n1 =int(input(\"num 1>\"))\n",
    "n2 =int(input(\"num 2>\"))\n",
    "print(n1)\n",
    "print(type(n1))\n",
    "print(n1*n2)"
   ]
  },
  {
   "cell_type": "markdown",
   "metadata": {},
   "source": [
    "3"
   ]
  },
  {
   "cell_type": "code",
   "execution_count": null,
   "metadata": {},
   "outputs": [
    {
     "name": "stdout",
     "output_type": "stream",
     "text": [
      "1\n",
      "2\n",
      "Fizz\n",
      "4\n",
      "Buzz\n",
      "Fizz\n",
      "7\n",
      "8\n",
      "Fizz\n",
      "Buzz\n",
      "11\n",
      "Fizz\n",
      "13\n",
      "14\n",
      "FizzBuzz\n",
      "16\n",
      "17\n",
      "Fizz\n",
      "19\n",
      "Buzz\n",
      "Fizz\n",
      "22\n",
      "23\n",
      "Fizz\n",
      "Buzz\n",
      "26\n",
      "Fizz\n",
      "28\n",
      "29\n",
      "FizzBuzz\n"
     ]
    }
   ],
   "source": [
    "N=int(input(\"insert upper boundary\"))\n",
    "for i in range(1,N+1):\n",
    "    if(i%5==0 and i%3==0):\n",
    "        print(\"FizzBuzz\")\n",
    "        continue\n",
    "    if(i%5==0):\n",
    "        print(\"Buzz\")\n",
    "        continue\n",
    "    if(i%3==0):\n",
    "        print(\"Fizz\")\n",
    "        continue\n",
    "    print(i)\n",
    "\n",
    "\n"
   ]
  },
  {
   "cell_type": "markdown",
   "metadata": {},
   "source": [
    "4"
   ]
  },
  {
   "cell_type": "code",
   "execution_count": null,
   "metadata": {},
   "outputs": [
    {
     "name": "stdout",
     "output_type": "stream",
     "text": [
      "0 f\n",
      "1 g\n",
      "2 a\n",
      "3 s\n",
      "4 d\n",
      "5 a\n",
      "6 d\n",
      "7 v\n",
      "8 z\n",
      "9 s\n"
     ]
    }
   ],
   "source": [
    "text=input(\"insert text\")\n",
    "for i in range(len(text)):\n",
    "    print(i,text[i])"
   ]
  },
  {
   "cell_type": "markdown",
   "metadata": {},
   "source": [
    "5"
   ]
  },
  {
   "cell_type": "code",
   "execution_count": 27,
   "metadata": {},
   "outputs": [
    {
     "name": "stdout",
     "output_type": "stream",
     "text": [
      "213"
     ]
    }
   ],
   "source": [
    "number=input(\"insert number\")\n",
    "N=len(number)\n",
    "for i in range(N):\n",
    "    if((N-i)%3==0 and i!=0):\n",
    "        print(\",\",end=\"\")\n",
    "    print(number[i],end=\"\")"
   ]
  },
  {
   "cell_type": "markdown",
   "metadata": {},
   "source": [
    "6"
   ]
  },
  {
   "cell_type": "code",
   "execution_count": 1,
   "metadata": {},
   "outputs": [],
   "source": [
    "with open(\"./IO/fizzbuzz.txt\",\"w\") as f:\n",
    "    N=int(input(\"insert upper boundary\"))\n",
    "    a=[]\n",
    "    for i in range(1,N+1):\n",
    "        if(i%5==0 and i%3==0):\n",
    "            a.append(\"FizzBuzz\")\n",
    "            continue\n",
    "        if(i%5==0):\n",
    "            a.append(\"Buzz\")\n",
    "            continue\n",
    "        if(i%3==0):\n",
    "            a.append(\"Fizz\")\n",
    "            continue\n",
    "        a.append(str(i))\n",
    "\n",
    "    for i in a:\n",
    "        f.write(i+\"\\n\")"
   ]
  },
  {
   "cell_type": "markdown",
   "metadata": {},
   "source": [
    "8"
   ]
  },
  {
   "cell_type": "code",
   "execution_count": 6,
   "metadata": {},
   "outputs": [
    {
     "name": "stdout",
     "output_type": "stream",
     "text": [
      "s13\n"
     ]
    }
   ],
   "source": [
    "text1=input()\n",
    "print(text1[::-1])\n"
   ]
  },
  {
   "cell_type": "markdown",
   "metadata": {},
   "source": [
    "9"
   ]
  },
  {
   "cell_type": "code",
   "execution_count": 8,
   "metadata": {},
   "outputs": [
    {
     "name": "stdout",
     "output_type": "stream",
     "text": [
      "7\n"
     ]
    }
   ],
   "source": [
    "text1=input()\n",
    "print(len(text1))"
   ]
  },
  {
   "cell_type": "code",
   "execution_count": 1,
   "metadata": {},
   "outputs": [
    {
     "name": "stdout",
     "output_type": "stream",
     "text": [
      "1.0\n"
     ]
    }
   ],
   "source": [
    "from math import sqrt\n",
    "x1,y1=map(int,input().split())\n",
    "x2,y2=map(int,input().split())\n",
    "print(sqrt((x2-x1)**2)+sqrt((y2-y1)**2))"
   ]
  },
  {
   "cell_type": "code",
   "execution_count": 4,
   "metadata": {},
   "outputs": [
    {
     "name": "stdout",
     "output_type": "stream",
     "text": [
      "18.0\n"
     ]
    }
   ],
   "source": [
    "\n",
    "x1,y1=map(int,input().split())\n",
    "x2,y2=map(int,input().split())\n",
    "x3,y3=map(int,input().split())\n",
    "x2,y2=x2-x1,y2-y1\n",
    "x3,y3=x3-x1,y3-y1\n",
    "print(0.5*abs(x3*y2-x2*y3))\n"
   ]
  },
  {
   "cell_type": "code",
   "execution_count": 20,
   "metadata": {},
   "outputs": [
    {
     "name": "stdout",
     "output_type": "stream",
     "text": [
      "False\n"
     ]
    }
   ],
   "source": [
    "from math import sqrt\n",
    "from math import floor\n",
    "def is_prime(num):\n",
    "    if(num==0 or num==1):\n",
    "        return False\n",
    "    for i in range(2,floor(sqrt(num))+1):\n",
    "        if(num%i==0):\n",
    "            return False\n",
    "    return True\n",
    "x= int(input())\n",
    "print(is_prime(x))\n",
    "\n"
   ]
  },
  {
   "cell_type": "code",
   "execution_count": 25,
   "metadata": {},
   "outputs": [
    {
     "name": "stdout",
     "output_type": "stream",
     "text": [
      "[2, 3, 5, 7, 11, 13, 17, 19, 23, 29, 31, 37, 41, 43, 47, 53, 59, 61, 67, 71, 73, 79, 83, 89, 97, 101, 103, 107, 109, 113, 127, 131, 137, 139, 149, 151, 157, 163, 167, 173, 179, 181, 191, 193, 197, 199, 211, 223, 227, 229, 233, 239, 241, 251, 257, 263, 269, 271, 277, 281, 283, 293, 307, 311, 313, 317, 331, 337, 347, 349, 353, 359, 367, 373, 379, 383, 389, 397, 401, 409, 419, 421, 431, 433, 439, 443, 449, 457, 461, 463, 467, 479, 487, 491, 499, 503, 509, 521, 523, 541, 547, 557, 563, 569, 571, 577, 587, 593, 599, 601, 607, 613, 617, 619, 631, 641, 643, 647, 653, 659, 661, 673, 677, 683, 691, 701, 709, 719, 727, 733, 739, 743, 751, 757, 761, 769, 773, 787, 797, 809, 811, 821, 823, 827, 829, 839, 853, 857, 859, 863, 877, 881, 883, 887, 907, 911, 919, 929, 937, 941, 947, 953, 967, 971, 977, 983, 991, 997]\n"
     ]
    }
   ],
   "source": [
    "from math import sqrt\n",
    "from math import floor\n",
    "def is_prime(num):\n",
    "    if(num==0 or num==1):\n",
    "        return False\n",
    "    for i in range(2,floor(sqrt(num))+1):\n",
    "        if(num%i==0):\n",
    "            return False\n",
    "    return True\n",
    "def get_all_primes(max):\n",
    "    return [x for x in range(max+1) if is_prime(x)]\n",
    "\n",
    "x=int(input())\n",
    "print(get_all_primes(x))\n",
    "\n"
   ]
  },
  {
   "cell_type": "code",
   "execution_count": 28,
   "metadata": {},
   "outputs": [
    {
     "name": "stdout",
     "output_type": "stream",
     "text": [
      "[1, 2, 3, 5, 6, 23, 29, 37, 918]\n"
     ]
    }
   ],
   "source": [
    "a=list(map(int,input().split()))\n",
    "a.sort()\n",
    "print(a)"
   ]
  },
  {
   "cell_type": "code",
   "execution_count": 34,
   "metadata": {},
   "outputs": [
    {
     "name": "stdout",
     "output_type": "stream",
     "text": [
      "{'h': 1, 'e': 1, 'l': 3, 'o': 2, 'w': 1, 'r': 1, 'd': 1}\n"
     ]
    }
   ],
   "source": [
    "a=input().replace(' ','')\n",
    "d={}\n",
    "for i in a:\n",
    "    if i in d:\n",
    "        d[i]=d[i]+1\n",
    "    else:\n",
    "        d[i]=1\n",
    "print(d)"
   ]
  },
  {
   "cell_type": "code",
   "execution_count": 49,
   "metadata": {},
   "outputs": [
    {
     "name": "stdout",
     "output_type": "stream",
     "text": [
      "{'1': 1, '2': 1, 'Fizz': 18, '4': 1, 'Buzz': 9, '7': 1, '8': 1, '11': 1, '13': 1, '14': 1, 'FizzBuzz': 4, '16': 1, '17': 1, '19': 1, '22': 1, '23': 1, '26': 1, '28': 1, '29': 1, '31': 1, '32': 1, '34': 1, '37': 1, '38': 1, '41': 1, '43': 1, '44': 1, '46': 1, '47': 1, '49': 1, '52': 1, '53': 1, '56': 1, '58': 1, '59': 1, '61': 1, '62': 1, '64': 1, '67': 1}\n"
     ]
    }
   ],
   "source": [
    "fn=input()\n",
    "dict={}\n",
    "with open(fn,'r') as f:\n",
    "    wordlist=[j for i in f.readlines() for j in i.strip().split()]\n",
    "    for i in wordlist:\n",
    "        if i in dict:\n",
    "            dict[i]+=1\n",
    "        else:\n",
    "            dict[i]=1\n",
    "print(dict)"
   ]
  },
  {
   "cell_type": "code",
   "execution_count": 59,
   "metadata": {},
   "outputs": [
    {
     "name": "stdout",
     "output_type": "stream",
     "text": [
      "2\n"
     ]
    }
   ],
   "source": [
    "s1,s2=input().split()\n",
    "count=0\n",
    "for i in range(len(s1)-len(s2)+1):\n",
    "    if s2==s1[i:i+2]:\n",
    "        count+=1\n",
    "print(count)\n"
   ]
  },
  {
   "cell_type": "code",
   "execution_count": 61,
   "metadata": {},
   "outputs": [
    {
     "name": "stdout",
     "output_type": "stream",
     "text": [
      "True\n"
     ]
    }
   ],
   "source": [
    "N=input()\n",
    "arr=list(map(int,input().split()))\n",
    "src=int(input())\n",
    "print(src in arr)"
   ]
  },
  {
   "cell_type": "code",
   "execution_count": null,
   "metadata": {},
   "outputs": [],
   "source": [
    "H,W=map(int,input().split())\n"
   ]
  }
 ],
 "metadata": {
  "interpreter": {
   "hash": "fba1ad0ccdce1a43512b01109c48f1241bf581c70d2082fda394bbfe553010f2"
  },
  "kernelspec": {
   "display_name": "Python 3.9.7 64-bit ('main': conda)",
   "name": "python3"
  },
  "language_info": {
   "codemirror_mode": {
    "name": "ipython",
    "version": 3
   },
   "file_extension": ".py",
   "mimetype": "text/x-python",
   "name": "python",
   "nbconvert_exporter": "python",
   "pygments_lexer": "ipython3",
   "version": "3.9.7"
  },
  "orig_nbformat": 4
 },
 "nbformat": 4,
 "nbformat_minor": 2
}
