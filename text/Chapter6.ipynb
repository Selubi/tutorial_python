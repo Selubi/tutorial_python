{
 "cells": [
  {
   "cell_type": "code",
   "execution_count": 1,
   "id": "dedd032a",
   "metadata": {},
   "outputs": [],
   "source": [
    "import warnings\n",
    "warnings.filterwarnings('ignore') # 実行に影響のない　warninig　を非表示にします. 非推奨."
   ]
  },
  {
   "cell_type": "markdown",
   "id": "8167e93f",
   "metadata": {},
   "source": [
    "# Chapter 6: Pytorchによる線形回帰\n",
    "機械学習用のライブラリとして有名な**Pytorch**を利用して線形回帰を行ってみる\n",
    "## 6-1. ライブラリの準備\n",
    "（結構古めのバージョンでの実装になるので最新版だと動かないかも ？ 2021/9/21時点での最新ver=1.9）\n",
    "```\n",
    "conda install pytorch==1.6.0 torchvision==0.7.0 cpuonly -c pytorch\n",
    "```\n"
   ]
  },
  {
   "cell_type": "code",
   "execution_count": 2,
   "id": "a598719f",
   "metadata": {},
   "outputs": [
    {
     "name": "stdout",
     "output_type": "stream",
     "text": [
      "1.6.0\n"
     ]
    }
   ],
   "source": [
    "import torch\n",
    "print(torch.__version__)"
   ]
  },
  {
   "cell_type": "markdown",
   "id": "9b634a1b",
   "metadata": {},
   "source": [
    "## 6-2. データセットをダウンロード&データの準備（Chapter 5とほぼ同じ）"
   ]
  },
  {
   "cell_type": "code",
   "execution_count": 3,
   "id": "98ebb2ff",
   "metadata": {},
   "outputs": [
    {
     "name": "stdout",
     "output_type": "stream",
     "text": [
      "--2021-09-22 14:37:32--  https://archive.ics.uci.edu/ml/machine-learning-databases/wine-quality/winequality-red.csv\n",
      "archive.ics.uci.edu (archive.ics.uci.edu) をDNSに問いあわせています... 128.195.10.252\n",
      "archive.ics.uci.edu (archive.ics.uci.edu)|128.195.10.252|:443 に接続しています... 接続しました。\n",
      "HTTP による接続要求を送信しました、応答を待っています... 200 OK\n",
      "長さ: 84199 (82K) [application/x-httpd-php]\n",
      "`winequality-red.csv' に保存中\n",
      "\n",
      "100%[======================================>] 84,199       368KB/s 時間 0.2s     \n",
      "\n",
      "2021-09-22 14:37:32 (368 KB/s) - `winequality-red.csv' へ保存完了 [84199/84199]\n",
      "\n"
     ]
    }
   ],
   "source": [
    "! wget https://archive.ics.uci.edu/ml/machine-learning-databases/wine-quality/winequality-red.csv\n",
    "! mv winequality-red.csv data/winequality-red.csv"
   ]
  },
  {
   "cell_type": "code",
   "execution_count": 4,
   "id": "d1c1465e",
   "metadata": {},
   "outputs": [
    {
     "data": {
      "text/html": [
       "<div>\n",
       "<style scoped>\n",
       "    .dataframe tbody tr th:only-of-type {\n",
       "        vertical-align: middle;\n",
       "    }\n",
       "\n",
       "    .dataframe tbody tr th {\n",
       "        vertical-align: top;\n",
       "    }\n",
       "\n",
       "    .dataframe thead th {\n",
       "        text-align: right;\n",
       "    }\n",
       "</style>\n",
       "<table border=\"1\" class=\"dataframe\">\n",
       "  <thead>\n",
       "    <tr style=\"text-align: right;\">\n",
       "      <th></th>\n",
       "      <th>fixed acidity</th>\n",
       "      <th>volatile acidity</th>\n",
       "      <th>citric acid</th>\n",
       "      <th>residual sugar</th>\n",
       "      <th>chlorides</th>\n",
       "      <th>free sulfur dioxide</th>\n",
       "      <th>total sulfur dioxide</th>\n",
       "      <th>density</th>\n",
       "      <th>pH</th>\n",
       "      <th>sulphates</th>\n",
       "      <th>alcohol</th>\n",
       "      <th>quality</th>\n",
       "    </tr>\n",
       "  </thead>\n",
       "  <tbody>\n",
       "    <tr>\n",
       "      <th>0</th>\n",
       "      <td>7.4</td>\n",
       "      <td>0.70</td>\n",
       "      <td>0.00</td>\n",
       "      <td>1.9</td>\n",
       "      <td>0.076</td>\n",
       "      <td>11.0</td>\n",
       "      <td>34.0</td>\n",
       "      <td>0.9978</td>\n",
       "      <td>3.51</td>\n",
       "      <td>0.56</td>\n",
       "      <td>9.4</td>\n",
       "      <td>5</td>\n",
       "    </tr>\n",
       "    <tr>\n",
       "      <th>1</th>\n",
       "      <td>7.8</td>\n",
       "      <td>0.88</td>\n",
       "      <td>0.00</td>\n",
       "      <td>2.6</td>\n",
       "      <td>0.098</td>\n",
       "      <td>25.0</td>\n",
       "      <td>67.0</td>\n",
       "      <td>0.9968</td>\n",
       "      <td>3.20</td>\n",
       "      <td>0.68</td>\n",
       "      <td>9.8</td>\n",
       "      <td>5</td>\n",
       "    </tr>\n",
       "    <tr>\n",
       "      <th>2</th>\n",
       "      <td>7.8</td>\n",
       "      <td>0.76</td>\n",
       "      <td>0.04</td>\n",
       "      <td>2.3</td>\n",
       "      <td>0.092</td>\n",
       "      <td>15.0</td>\n",
       "      <td>54.0</td>\n",
       "      <td>0.9970</td>\n",
       "      <td>3.26</td>\n",
       "      <td>0.65</td>\n",
       "      <td>9.8</td>\n",
       "      <td>5</td>\n",
       "    </tr>\n",
       "    <tr>\n",
       "      <th>3</th>\n",
       "      <td>11.2</td>\n",
       "      <td>0.28</td>\n",
       "      <td>0.56</td>\n",
       "      <td>1.9</td>\n",
       "      <td>0.075</td>\n",
       "      <td>17.0</td>\n",
       "      <td>60.0</td>\n",
       "      <td>0.9980</td>\n",
       "      <td>3.16</td>\n",
       "      <td>0.58</td>\n",
       "      <td>9.8</td>\n",
       "      <td>6</td>\n",
       "    </tr>\n",
       "    <tr>\n",
       "      <th>4</th>\n",
       "      <td>7.4</td>\n",
       "      <td>0.70</td>\n",
       "      <td>0.00</td>\n",
       "      <td>1.9</td>\n",
       "      <td>0.076</td>\n",
       "      <td>11.0</td>\n",
       "      <td>34.0</td>\n",
       "      <td>0.9978</td>\n",
       "      <td>3.51</td>\n",
       "      <td>0.56</td>\n",
       "      <td>9.4</td>\n",
       "      <td>5</td>\n",
       "    </tr>\n",
       "  </tbody>\n",
       "</table>\n",
       "</div>"
      ],
      "text/plain": [
       "   fixed acidity  volatile acidity  citric acid  residual sugar  chlorides  \\\n",
       "0            7.4              0.70         0.00             1.9      0.076   \n",
       "1            7.8              0.88         0.00             2.6      0.098   \n",
       "2            7.8              0.76         0.04             2.3      0.092   \n",
       "3           11.2              0.28         0.56             1.9      0.075   \n",
       "4            7.4              0.70         0.00             1.9      0.076   \n",
       "\n",
       "   free sulfur dioxide  total sulfur dioxide  density    pH  sulphates  \\\n",
       "0                 11.0                  34.0   0.9978  3.51       0.56   \n",
       "1                 25.0                  67.0   0.9968  3.20       0.68   \n",
       "2                 15.0                  54.0   0.9970  3.26       0.65   \n",
       "3                 17.0                  60.0   0.9980  3.16       0.58   \n",
       "4                 11.0                  34.0   0.9978  3.51       0.56   \n",
       "\n",
       "   alcohol  quality  \n",
       "0      9.4        5  \n",
       "1      9.8        5  \n",
       "2      9.8        5  \n",
       "3      9.8        6  \n",
       "4      9.4        5  "
      ]
     },
     "metadata": {},
     "output_type": "display_data"
    }
   ],
   "source": [
    "import pandas as pd\n",
    "wine = pd.read_csv(\"./data/winequality-red.csv\", sep=\";\") # sepは区切り文字の指定\n",
    "display(wine.head(5))"
   ]
  },
  {
   "cell_type": "code",
   "execution_count": 5,
   "id": "f3d366bf",
   "metadata": {},
   "outputs": [],
   "source": [
    "import numpy as np\n",
    "np.random.seed(0) # random　の挙動を固定\n",
    "\n",
    "X = wine[[\"density\"]].values\n",
    "T = wine[\"alcohol\"].values\n",
    "X = X - X.mean()\n",
    "T = T - T.mean()\n",
    "\n",
    "#X, Tそれぞれが最小値0, 最大値1になるように標準化\n",
    "#追加の前処理部分\n",
    "X = (X - X.min()) / (X.max() - X.min())\n",
    "T = (T - T.min()) / (T.max() - T.min())\n",
    "\n",
    "p = np.random.permutation(len(X))\n",
    "X = X[p]\n",
    "T = T[p]\n",
    "\n",
    "X_train = X[:1000, :]\n",
    "T_train = T[:1000]\n",
    "X_test = X[1000:, :]\n",
    "T_test = T[1000:]"
   ]
  },
  {
   "cell_type": "code",
   "execution_count": 6,
   "id": "a0b56c79",
   "metadata": {},
   "outputs": [
    {
     "data": {
      "image/png": "[encoded data removed]",
      "text/plain": [
       "<Figure size 864x288 with 2 Axes>"
      ]
     },
     "metadata": {
      "needs_background": "light"
     },
     "output_type": "display_data"
    }
   ],
   "source": [
    "import matplotlib.pyplot as plt\n",
    "%matplotlib inline\n",
    "\n",
    "fig, axes = plt.subplots(ncols=2, figsize=(12, 4))\n",
    "\n",
    "axes[0].scatter(X_train, T_train, marker=\".\")\n",
    "axes[0].set_title(\"train\")\n",
    "axes[1].scatter(X_test, T_test, marker=\".\")\n",
    "axes[1].set_title(\"test\")\n",
    "fig.show()"
   ]
  },
  {
   "cell_type": "markdown",
   "id": "acbe1a03",
   "metadata": {},
   "source": [
    "## 6-3 Pytorchでの学習構築\n",
    "Pytorchは（厳密にはもちろん違うが）**モデル構造**と**データ**と**Loss**と**最適化手法**をそれぞれ与えるだけであとは勝手に回帰，ないしは分類などを行うことができる**学習済みモデル**を出力してくれる便利なライブラリ\\\n",
    "以下のコードの各行が何をしているのかを読み解いていく形で読むことをお勧めする"
   ]
  },
  {
   "cell_type": "code",
   "execution_count": 7,
   "id": "7960f3ec",
   "metadata": {},
   "outputs": [],
   "source": [
    "#モデル構造\n",
    "class MyLinearRegression(torch.nn.Module):\n",
    "    \n",
    "    #初期化\n",
    "    def __init__(self, n_input, n_output):#入力の次元と出力の次元を与える\n",
    "        super().__init__()\n",
    "        self.l1 = torch.nn.Linear(n_input, n_output, bias = True)\n",
    "        \"\"\"\n",
    "        torch.nn.Linear\n",
    "            (第一引数の入力次元数*第二引数に出力次元数の大きさの行列を定義することができる\n",
    "            特に指定をしない限り学習過程で内部のパラメータは変化していく（初期値はランダム）\n",
    "        \"\"\"\n",
    "        \n",
    "    #sklearnで言うところの predict関数に相当\n",
    "    def forward(self, x):\n",
    "        h1 = self.l1(x)\n",
    "        \"\"\"\n",
    "        self.l1(x)\n",
    "            __init__で作ったベクトル行列を使って入力xを予測値に変換する\n",
    "        \"\"\"\n",
    "        return h1"
   ]
  },
  {
   "cell_type": "markdown",
   "id": "7d5032f0",
   "metadata": {},
   "source": [
    "loss関数には**二乗和誤差関数**，　最適化手法には**SGD**を用いた\\\n",
    "それぞれどのような手法なのか，他にどのような手法が（デフォルトで）適応できるのかについては公式を参照するのが早い\\\n",
    "loss関数: https://pytorch.org/docs/stable/nn.html#loss-functions \\\n",
    "最適化手法: https://pytorch.org/docs/stable/optim.html \\\n",
    "\\\n",
    "（基本的に**解析的に解けない問題**に対して用いるライブラリなので最適化手法には勾配法を用いる）\\\n",
    "解析的に求めれる　　➡︎　sklearn\\\n",
    "解析的に求めれない　➡︎　pytorch (keras・tensorflow)\\\n",
    "ベイズでモデル構築　➡︎　GPy PyMC3 Pystan etc...\\\n",
    "\\\n",
    "など目的に応じたライブラリを使用すると良い"
   ]
  },
  {
   "cell_type": "code",
   "execution_count": 8,
   "id": "18fa061b",
   "metadata": {},
   "outputs": [],
   "source": [
    "#モデルの作成\n",
    "model = MyLinearRegression(1, 1)\n",
    "\n",
    "#loss関数の設定\n",
    "criterion = torch.nn.MSELoss()\n",
    "#criterion = torch.nn.L1Loss()\n",
    "\n",
    "#最適化手法の設定\n",
    "optimizer = torch.optim.SGD(model.parameters(), lr=0.01)\n",
    "#optimizer = torch.optim.Adam(model.parameters(), lr=0.01)"
   ]
  },
  {
   "cell_type": "code",
   "execution_count": 9,
   "id": "2310ad60",
   "metadata": {},
   "outputs": [],
   "source": [
    "class Dataset(torch.utils.data.Dataset):\n",
    "    def __init__(self, train=True):\n",
    "        if train:\n",
    "            self.X = torch.FloatTensor(X_train)\n",
    "            self.t = torch.FloatTensor(T_train).view(-1, 1)\n",
    "        else:\n",
    "            self.X = torch.FloatTensor(X_test)\n",
    "            self.t = torch.FloatTensor(T_test).view(-1, 1)\n",
    "        self.data_length = len(self.t)\n",
    "\n",
    "    def __getitem__(self, index):\n",
    "        return self.X[index], self.t[index]\n",
    "\n",
    "    def __len__(self):\n",
    "        return self.data_length"
   ]
  },
  {
   "cell_type": "code",
   "execution_count": 10,
   "id": "1cb457b3",
   "metadata": {},
   "outputs": [],
   "source": [
    "from torch.utils.data import DataLoader\n",
    "\n",
    "batch_size = 1000\n",
    "trainset = Dataset(train=True)\n",
    "testset  = Dataset(train=False)\n",
    "trainloader = DataLoader(dataset = trainset, batch_size = batch_size, shuffle = True)\n",
    "testloader  = DataLoader(dataset = testset,  batch_size = batch_size, shuffle = True)"
   ]
  },
  {
   "cell_type": "code",
   "execution_count": 11,
   "id": "52060c0a",
   "metadata": {},
   "outputs": [
    {
     "name": "stdout",
     "output_type": "stream",
     "text": [
      "epoch: 1000/1000, train loss: 0.02462766505777836"
     ]
    }
   ],
   "source": [
    "epochs = 1000\n",
    "loss_list = []\n",
    "param_list = []\n",
    "num_batchs = len(trainloader) // batch_size + 1\n",
    "for epoch in range(epochs):\n",
    "    loss_sum = 0\n",
    "    for X, t in trainloader:\n",
    "        t_pred = model(X)\n",
    "        loss = criterion(t_pred, t)\n",
    "        optimizer.zero_grad()\n",
    "        loss.backward()\n",
    "        optimizer.step()\n",
    "        loss_sum += loss.detach()\n",
    "    loss_sum /= num_batchs\n",
    "    loss_list.append(loss_sum)\n",
    "    st_dict = model.state_dict()\n",
    "    param_list.append([st_dict['l1.weight'].detach().numpy()[0, 0], st_dict['l1.bias'].detach().numpy()[0], epoch])\n",
    "    print(f'\\repoch: {epoch+1}/{epochs}, train loss: {loss_sum}', end='')\n",
    "param_list = np.array(param_list)"
   ]
  },
  {
   "cell_type": "code",
   "execution_count": 12,
   "id": "2bd7fa23",
   "metadata": {},
   "outputs": [
    {
     "data": {
      "text/plain": [
       "Text(0, 0.5, 'Loss')"
      ]
     },
     "execution_count": 12,
     "metadata": {},
     "output_type": "execute_result"
    },
    {
     "data": {
      "image/png": "[encoded data removed]",
      "text/plain": [
       "<Figure size 432x288 with 1 Axes>"
      ]
     },
     "metadata": {
      "needs_background": "light"
     },
     "output_type": "display_data"
    }
   ],
   "source": [
    "plt.plot(loss_list)\n",
    "plt.xlabel('Training Iteration') \n",
    "plt.ylabel('Loss') "
   ]
  },
  {
   "cell_type": "code",
   "execution_count": 13,
   "id": "b42a4ab6",
   "metadata": {},
   "outputs": [
    {
     "data": {
      "image/png": "[encoded data removed]",
      "text/plain": [
       "<Figure size 432x288 with 2 Axes>"
      ]
     },
     "metadata": {
      "needs_background": "light"
     },
     "output_type": "display_data"
    }
   ],
   "source": [
    "#学習におけるパラメータの推移を可視化\n",
    "from matplotlib import cm\n",
    "plt.scatter(param_list[:, 0], param_list[:, 1],\n",
    "            c=param_list[:, 2],\n",
    "            cmap=cm.jet,#カラーマップの種類\n",
    "            marker='.',lw=0)\n",
    "plt.xlabel('係数') \n",
    "plt.ylabel('Bias') \n",
    "ax=plt.colorbar()#カラーマップの凡例\n",
    "ax.set_label('time [epoch]')#カラーバーのラベルネーム\n",
    "plt.show()"
   ]
  },
  {
   "cell_type": "code",
   "execution_count": 14,
   "id": "50e13a5e",
   "metadata": {},
   "outputs": [
    {
     "name": "stdout",
     "output_type": "stream",
     "text": [
      "test_loss:  0.020934375\n"
     ]
    }
   ],
   "source": [
    "model.eval()\n",
    "num_batchs = len(testloader) // batch_size + 1\n",
    "with torch.no_grad():\n",
    "    loss_sum = 0\n",
    "    for X, t in testloader:\n",
    "        t_pred = model(X)\n",
    "        loss_sum += criterion(t_pred, t).detach()\n",
    "        \n",
    "    loss_sum /= num_batchs\n",
    "    \n",
    "print('test_loss: ', loss_sum.detach().numpy())"
   ]
  },
  {
   "cell_type": "code",
   "execution_count": 15,
   "id": "7a9c0ed2",
   "metadata": {},
   "outputs": [
    {
     "data": {
      "image/png": "[encoded data removed]",
      "text/plain": [
       "<Figure size 864x288 with 2 Axes>"
      ]
     },
     "metadata": {
      "needs_background": "light"
     },
     "output_type": "display_data"
    }
   ],
   "source": [
    "predict = model(torch.FloatTensor(X_train)).detach().numpy()\n",
    "\n",
    "fig, axes = plt.subplots(ncols=2, figsize=(12, 4))\n",
    "\n",
    "axes[0].scatter(X_train, T_train, marker=\".\")\n",
    "axes[0].plot(X_train, predict, color=\"red\")\n",
    "axes[0].set_title(\"train\")\n",
    "\n",
    "axes[1].scatter(X_test, T_test, marker=\".\")\n",
    "axes[1].plot(X_train, predict, color=\"red\")\n",
    "axes[1].set_title(\"test\")\n",
    "fig.show()"
   ]
  },
  {
   "cell_type": "code",
   "execution_count": 16,
   "id": "cdf35648",
   "metadata": {},
   "outputs": [
    {
     "name": "stdout",
     "output_type": "stream",
     "text": [
      "係数:  -0.19243294\n",
      "bias:  0.40790775\n"
     ]
    }
   ],
   "source": [
    "st_dict = model.state_dict()\n",
    "print('係数: ', st_dict['l1.weight'].detach().numpy()[0, 0])\n",
    "print('bias: ', st_dict['l1.bias'].detach().numpy()[0])"
   ]
  },
  {
   "cell_type": "markdown",
   "id": "a811a773",
   "metadata": {},
   "source": [
    "# 課題\n",
    "**上記のプログラムを読んだ上で条件を変えて回帰（または分類）を行いどのような変化があるのかを調査し，なぜそのような変化が起こったのかを考察せよ**\\\n",
    "（例）\\\n",
    "多項式回帰にしてみる, 標準化せずにやってみる, bias=Falseにしてみる\\\n",
    "epoch数, 　batch_size, loss関数, optimizer（の種類，またはパラメータ）を変更してみる\\\n",
    "chapter5で紹介した分類問題をpytorchで解いてみる\\\n",
    "など"
   ]
  },
  {
   "cell_type": "code",
   "execution_count": null,
   "id": "365a2116",
   "metadata": {},
   "outputs": [],
   "source": []
  }
 ],
 "metadata": {
  "kernelspec": {
   "display_name": "Python 3",
   "language": "python",
   "name": "python3"
  },
  "language_info": {
   "codemirror_mode": {
    "name": "ipython",
    "version": 3
   },
   "file_extension": ".py",
   "mimetype": "text/x-python",
   "name": "python",
   "nbconvert_exporter": "python",
   "pygments_lexer": "ipython3",
   "version": "3.6.9"
  }
 },
 "nbformat": 4,
 "nbformat_minor": 5
}
