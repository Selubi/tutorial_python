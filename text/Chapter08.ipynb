{
 "cells": [
  {
   "cell_type": "code",
   "execution_count": 1,
   "metadata": {},
   "outputs": [],
   "source": [
    "import warnings\n",
    "warnings.filterwarnings('ignore') # 実行に影響のない　warninig　を非表示にします. 非推奨."
   ]
  },
  {
   "cell_type": "markdown",
   "metadata": {},
   "source": [
    "# Chapter 8: Pytorchによる深層学習\n",
    "~~猫も杓子もディープラーニングのこの時代．理由はわからんが乗るしかねぇこのビッグウェーブに．~~<br>\n",
    "様々な領域においてビッグデータが整備されてきている昨今，入出力の非線形な依存関係を捉え，複雑なモデルを（ある意味勝手に）学習してくれる深層学習は分類，回帰などの様々なタスクに対して有効なツールであるといえます．<br>\n",
    "Pytorchは今後少なくとも後2~3年くらいは有力なライブラリなのではと思うので学んでいきましょう．<br>\n",
    "基本的なライブラリは[Chapter6](./Chapter6.ipynb)を終えた時点でもう揃っていると思います．<br>"
   ]
  },
  {
   "cell_type": "code",
   "execution_count": 2,
   "metadata": {},
   "outputs": [
    {
     "name": "stdout",
     "output_type": "stream",
     "text": [
      "1.9.1\n"
     ]
    }
   ],
   "source": [
    "import torch\n",
    "import torchvision\n",
    "import torchvision.transforms as transforms\n",
    "import numpy as np\n",
    "import matplotlib.pyplot as plt\n",
    "%matplotlib inline\n",
    "print(torch.__version__)"
   ]
  },
  {
   "cell_type": "markdown",
   "metadata": {},
   "source": [
    "今回はMNISTとよばれる手書き数字データセットの分類に深層学習を用いてみることにしましょう.\n",
    "こちらは有名なデータセットであり，Pytorchのライブラリ内に元から用意されているので`wget`などを用いて用意する必要はありません（もちろん内部的には行われています）<br>\n",
    "以下はデータセット準備のコードになります．\\\n",
    "**なお次に転移学習を行う都合上，データセットから「０」と「１」を削除しています**"
   ]
  },
  {
   "cell_type": "code",
   "execution_count": 3,
   "metadata": {},
   "outputs": [
    {
     "name": "stdout",
     "output_type": "stream",
     "text": [
      "10000\n",
      "1000\n"
     ]
    }
   ],
   "source": [
    "#データの前処理を行うクラスインスタンス\n",
    "transform = transforms.Compose(\n",
    "    [transforms.Resize((16, 16)),\n",
    "     transforms.ToTensor(),\n",
    "     transforms.Normalize((0.5, ), (0.5, ))])\n",
    "\n",
    "batch_size = 100\n",
    "\n",
    "#使用するtrainデータセット\n",
    "trainset = torchvision.datasets.MNIST(root='./data', \n",
    "                                        train=True,\n",
    "                                        download=True,\n",
    "                                        transform=transform)\n",
    "mask = ~((trainset.targets == 1) | (trainset.targets == 0))\n",
    "trainset.data = trainset.data[mask]\n",
    "trainset.targets = trainset.targets[mask]\n",
    "trainset.targets = trainset.targets - 2\n",
    "#データ分割\n",
    "trainset, _ = torch.utils.data.random_split(trainset, [10000, len(trainset)-10000])\n",
    "print(len(trainset))\n",
    "\n",
    "#trainデータをbatchごとに逐次的に取り出してくれるクラスインスタンス\n",
    "trainloader = torch.utils.data.DataLoader(trainset,\n",
    "                                            batch_size=batch_size,\n",
    "                                            shuffle=True)\n",
    "\n",
    "#使用するtestデータセット（以下略）\n",
    "testset = torchvision.datasets.MNIST(root='./data', \n",
    "                                        train=False, \n",
    "                                        download=True, \n",
    "                                        transform=transform)\n",
    "mask = ~((testset.targets == 1) | (testset.targets == 0))\n",
    "testset.data = testset.data[mask]\n",
    "testset.targets = testset.targets[mask]\n",
    "testset.targets = testset.targets - 2\n",
    "\n",
    "testset, _ = torch.utils.data.random_split(testset, [1000, len(testset)-1000])\n",
    "print(len(testset))\n",
    "\n",
    "testloader = torch.utils.data.DataLoader(testset, \n",
    "                                            batch_size=batch_size,\n",
    "                                            shuffle=False)"
   ]
  },
  {
   "cell_type": "code",
   "execution_count": 4,
   "metadata": {},
   "outputs": [],
   "source": [
    "import torch.nn.functional as F\n",
    "#モデルの定義\n",
    "class NeuralNet(torch.nn.Module):\n",
    "    def __init__(self, n_input=256, n_hidden=16, n_output=8):\n",
    "        super(NeuralNet, self).__init__()\n",
    "        self.n_input = n_input\n",
    "        \n",
    "        #一層目と二層目の重み行列の定義\n",
    "        self.l1 = torch.nn.Linear(n_input,  n_hidden, bias = True)\n",
    "        self.l2 = torch.nn.Linear(n_hidden, n_hidden, bias = True)\n",
    "        self.l3 = torch.nn.Linear(n_hidden, n_output, bias = True)\n",
    "        \n",
    "    def forward(self, x):\n",
    "        #画像データ(２次元）を1次元に落とす\n",
    "        x = x.view(-1, self.n_input)\n",
    "        \n",
    "        #一層目の重み行列をかける\n",
    "        a1 = self.l1(x)\n",
    "        \n",
    "        #活性化関数に通す\n",
    "        h1 = F.sigmoid(a1)\n",
    "        #h1 = F.relu(a1)\n",
    "        \n",
    "        #二層目の重み行列をかける\n",
    "        a2 = self.l2(h1)\n",
    "        \n",
    "        #活性化関数に通す\n",
    "        h2 = F.sigmoid(a2)\n",
    "        #h2 = F.relu(a2)\n",
    "        \n",
    "        #三層目の重み行列をかける\n",
    "        a3 = self.l3(h2)\n",
    "        \n",
    "        return a3"
   ]
  },
  {
   "cell_type": "code",
   "execution_count": 5,
   "metadata": {},
   "outputs": [],
   "source": [
    "#モデルインスタンスの作成\n",
    "model = NeuralNet()\n",
    "\n",
    "#loss関数の設定\n",
    "criterion = torch.nn.CrossEntropyLoss()\n",
    "\n",
    "#最適化手法の設定\n",
    "optimizer = torch.optim.SGD(model.parameters(), lr=0.1)\n",
    "#optimizer = torch.optim.Adam(model.parameters(), lr=0.01)"
   ]
  },
  {
   "cell_type": "code",
   "execution_count": 6,
   "metadata": {},
   "outputs": [
    {
     "name": "stdout",
     "output_type": "stream",
     "text": [
      "true: 6, predict: 2\n",
      "true: 3, predict: 2\n",
      "true: 8, predict: 2\n",
      "true: 5, predict: 2\n",
      "true: 5, predict: 2\n",
      "true: 7, predict: 2\n",
      "true: 5, predict: 2\n",
      "true: 6, predict: 2\n",
      "true: 9, predict: 2\n",
      "true: 3, predict: 2\n"
     ]
    },
    {
     "data": {
      "image/png": "[encoded data removed]",
      "text/plain": [
       "<Figure size 864x288 with 10 Axes>"
      ]
     },
     "metadata": {
      "needs_background": "light"
     },
     "output_type": "display_data"
    }
   ],
   "source": [
    "#モデルの予想を可視化する関数の作成\n",
    "def prediction(model, num=10):\n",
    "    with torch.no_grad():\n",
    "        img, t = testloader.__iter__().next()\n",
    "        t_pred = model(img)\n",
    "        fig = plt.figure(figsize=(12,4))\n",
    "        ax = []\n",
    "        for i in range(num):\n",
    "            print(f'true: {t[i]+2}, predict: {np.argmax(t_pred[i])+2}')\n",
    "            ax.append(fig.add_subplot(1, num, i+1))\n",
    "            ax[i].imshow(img[i, 0], cmap='gray')\n",
    "        plt.show()\n",
    "\n",
    "#学習前でどのような予測をするのかを表示\n",
    "prediction(model)"
   ]
  },
  {
   "cell_type": "markdown",
   "metadata": {},
   "source": [
    "学習前では正確に予測できていないことを確認してください．<br>\n",
    "それではモデルの予測精度を上げるために学習を行いましょう."
   ]
  },
  {
   "cell_type": "code",
   "execution_count": 7,
   "metadata": {},
   "outputs": [
    {
     "name": "stdout",
     "output_type": "stream",
     "text": [
      "epoch: 30/30, train loss: 0.44103994965553284, test loss: 0.4372488856315613, test_acc: 874/1000......"
     ]
    }
   ],
   "source": [
    "#学習\n",
    "epochs = 30\n",
    "train_loss = []\n",
    "test_loss  = []\n",
    "test_acc = []\n",
    "train_num_batchs = np.ceil(len(trainset) / float(batch_size))\n",
    "test_num_batchs  = np.ceil(len(testset)  / float(batch_size))\n",
    "for epoch in range(epochs):\n",
    "    loss_sum = 0\n",
    "    #trainloaderからbatchごとのデータを取り出し\n",
    "    for X, t in trainloader:\n",
    "        t_pred = model(X)\n",
    "        loss = criterion(t_pred, t)\n",
    "        optimizer.zero_grad()\n",
    "        loss.backward()\n",
    "        optimizer.step()\n",
    "        loss_sum += loss.detach()\n",
    "    loss_sum /= train_num_batchs\n",
    "    train_loss.append(float(loss_sum))\n",
    "    #今回はテストデータに対する予測誤差や精度が各epochでどのように変化したのかを確かめます．\n",
    "    with torch.no_grad():\n",
    "        loss_sum = 0\n",
    "        correct = 0\n",
    "        for X, t in testloader:\n",
    "            t_pred = model(X)\n",
    "            loss = criterion(t_pred, t)\n",
    "            loss_sum += loss.detach()\n",
    "            pred = t_pred.argmax(dim=1, keepdim=True)\n",
    "            correct += pred.eq(t.view_as(pred)).sum().item()\n",
    "        loss_sum /= test_num_batchs\n",
    "        test_loss.append(float(loss_sum))\n",
    "        test_acc.append(correct/len(testloader))\n",
    "    print(f'\\repoch: {epoch+1}/{epochs}, train loss: {train_loss[epoch]}, test loss: {test_loss[epoch]}, test_acc: {correct}/{len(testset)}.....', end='')"
   ]
  },
  {
   "cell_type": "code",
   "execution_count": 8,
   "metadata": {},
   "outputs": [
    {
     "data": {
      "text/plain": [
       "[]"
      ]
     },
     "execution_count": 8,
     "metadata": {},
     "output_type": "execute_result"
    },
    {
     "data": {
      "image/png": "[encoded data removed]",
      "text/plain": [
       "<Figure size 864x288 with 2 Axes>"
      ]
     },
     "metadata": {
      "needs_background": "light"
     },
     "output_type": "display_data"
    }
   ],
   "source": [
    "fig = plt.figure(figsize=(12,4))\n",
    "\n",
    "ax1 = fig.add_subplot(1, 2, 1)\n",
    "ax1.plot(train_loss, c='b', label='train')\n",
    "ax1.plot(test_loss,  c='r', label='test')\n",
    "\n",
    "ax2 = fig.add_subplot(1, 2, 2)\n",
    "ax2.plot(test_acc, c='r', label='test')\n",
    "plt.plot()"
   ]
  },
  {
   "cell_type": "code",
   "execution_count": 9,
   "metadata": {},
   "outputs": [
    {
     "name": "stdout",
     "output_type": "stream",
     "text": [
      "true: 6, predict: 6\n",
      "true: 3, predict: 3\n",
      "true: 8, predict: 8\n",
      "true: 5, predict: 3\n",
      "true: 5, predict: 5\n",
      "true: 7, predict: 7\n",
      "true: 5, predict: 5\n",
      "true: 6, predict: 6\n",
      "true: 9, predict: 9\n",
      "true: 3, predict: 3\n"
     ]
    },
    {
     "data": {
      "image/png": "[encoded data removed]",
      "text/plain": [
       "<Figure size 864x288 with 10 Axes>"
      ]
     },
     "metadata": {
      "needs_background": "light"
     },
     "output_type": "display_data"
    }
   ],
   "source": [
    "prediction(model)"
   ]
  },
  {
   "cell_type": "code",
   "execution_count": 10,
   "metadata": {},
   "outputs": [],
   "source": [
    "torch.save(model.state_dict(), \"params/model_state_dict.pth\")"
   ]
  },
  {
   "cell_type": "markdown",
   "metadata": {},
   "source": [
    "まぁまぁの精度で手書き文字の分類ができるようになったと思います．<br>\n",
    "深層学習の基礎となるところなのでしっかりコードを理解するようにしましょう！"
   ]
  }
 ],
 "metadata": {
  "kernelspec": {
   "display_name": "Environment (conda_intern)",
   "language": "python",
   "name": "conda_intern"
  },
  "language_info": {
   "codemirror_mode": {
    "name": "ipython",
    "version": 3
   },
   "file_extension": ".py",
   "mimetype": "text/x-python",
   "name": "python",
   "nbconvert_exporter": "python",
   "pygments_lexer": "ipython3",
   "version": "3.9.7"
  }
 },
 "nbformat": 4,
 "nbformat_minor": 5
}
