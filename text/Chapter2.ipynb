{
 "cells": [
  {
   "cell_type": "markdown",
   "source": [
    "# Chapter2: 制御とデータ構造\n",
    "1. 制御\n",
    "2. 標準的なデータ構造\n",
    "    1. 文字列\n",
    "    2. リスト\n",
    "    3. 辞書\n",
    "3. 練習問題"
   ],
   "metadata": {}
  },
  {
   "cell_type": "markdown",
   "source": [
    "## 2-1. 制御\n",
    "\n",
    "#### ループ\n",
    "```python\n",
    "N = 10 # 繰り返す回数\n",
    "for i in range(N):\n",
    "    # 繰り返す処理\n",
    "\n",
    "while 条件:\n",
    "    # 条件が成立するときの処理\n",
    "```\n",
    "\n",
    "#### 条件分岐\n",
    "```python\n",
    "if 条件1:\n",
    "    # 条件1が成立しているときの処理\n",
    "elif 条件2:\n",
    "    # 条件1が成立せず，条件2が成立するときの処理\n",
    "else:\n",
    "    # 条件1も条件2も成立しないときの処理\n",
    "```\n",
    "\n"
   ],
   "metadata": {}
  },
  {
   "cell_type": "markdown",
   "source": [
    "## 2-2. 標準的なデータ構造\n",
    "\n",
    "### 2-2-1. 文字列"
   ],
   "metadata": {}
  },
  {
   "cell_type": "code",
   "execution_count": 1,
   "source": [
    "s = 'Hello'\n",
    "print(s[1]) # indexを指定して，表示する\n",
    "print(len(s)) # 文字列sの長さを表示する\n",
    "print(s+' world') # 文字列を連結する"
   ],
   "outputs": [
    {
     "output_type": "stream",
     "name": "stdout",
     "text": [
      "e\n",
      "5\n",
      "Hello world\n"
     ]
    }
   ],
   "metadata": {}
  },
  {
   "cell_type": "code",
   "execution_count": 2,
   "source": [
    "s + 1.5 # 文字列と数値の和をとることはできない"
   ],
   "outputs": [
    {
     "output_type": "error",
     "ename": "TypeError",
     "evalue": "can only concatenate str (not \"float\") to str",
     "traceback": [
      "\u001b[0;31m---------------------------------------------------------------------------\u001b[0m",
      "\u001b[0;31mTypeError\u001b[0m                                 Traceback (most recent call last)",
      "\u001b[0;32m/tmp/ipykernel_1561/1492761409.py\u001b[0m in \u001b[0;36m<module>\u001b[0;34m\u001b[0m\n\u001b[0;32m----> 1\u001b[0;31m \u001b[0ms\u001b[0m \u001b[0;34m+\u001b[0m \u001b[0;36m1.5\u001b[0m \u001b[0;31m# 文字列と数値の和をとることはできない\u001b[0m\u001b[0;34m\u001b[0m\u001b[0;34m\u001b[0m\u001b[0m\n\u001b[0m",
      "\u001b[0;31mTypeError\u001b[0m: can only concatenate str (not \"float\") to str"
     ]
    }
   ],
   "metadata": {}
  },
  {
   "cell_type": "code",
   "execution_count": 3,
   "source": [
    "s + str(1.5) # キャストすることで連結ができる"
   ],
   "outputs": [
    {
     "output_type": "execute_result",
     "data": {
      "text/plain": [
       "'Hello1.5'"
      ]
     },
     "metadata": {},
     "execution_count": 3
    }
   ],
   "metadata": {}
  },
  {
   "cell_type": "code",
   "execution_count": 4,
   "source": [
    "print(s.upper()) # すべて大文字にする\n",
    "print(s.lower()) # すべて小文字にする\n",
    "print(s[1:]) # 部分文字列"
   ],
   "outputs": [
    {
     "output_type": "stream",
     "name": "stdout",
     "text": [
      "HELLO\n",
      "hello\n",
      "ello\n"
     ]
    }
   ],
   "metadata": {}
  },
  {
   "cell_type": "code",
   "execution_count": 5,
   "source": [
    "text = \"\"\"I never think of the future. \n",
    "It comes soon enough.\"\"\"\n",
    "# このように文字列を定義すると複数行でも扱える\n",
    "print(text)"
   ],
   "outputs": [
    {
     "output_type": "stream",
     "name": "stdout",
     "text": [
      "I never think of the future. \n",
      "It comes soon enough.\n"
     ]
    }
   ],
   "metadata": {}
  },
  {
   "cell_type": "code",
   "execution_count": 6,
   "source": [
    "print(text.split(' '))# スペースで分割する"
   ],
   "outputs": [
    {
     "output_type": "stream",
     "name": "stdout",
     "text": [
      "['I', 'never', 'think', 'of', 'the', 'future.', '\\nIt', 'comes', 'soon', 'enough.']\n"
     ]
    }
   ],
   "metadata": {}
  },
  {
   "cell_type": "markdown",
   "source": [
    "### 2-2-2. リスト"
   ],
   "metadata": {}
  },
  {
   "cell_type": "code",
   "execution_count": 7,
   "source": [
    "countries = ['USA', 'UK', 'Japan']\n",
    "for i in range(3):\n",
    "    print(countries[i]) # indexを指定して値を表示\n",
    "\n",
    "for country in countries:\n",
    "    print(country) # リストの要素を引き出すことができる"
   ],
   "outputs": [
    {
     "output_type": "stream",
     "name": "stdout",
     "text": [
      "USA\n",
      "UK\n",
      "Japan\n",
      "USA\n",
      "UK\n",
      "Japan\n"
     ]
    }
   ],
   "metadata": {}
  },
  {
   "cell_type": "code",
   "execution_count": 8,
   "source": [
    "print(len(countries)) # リストの長さ\n",
    "if 'USA' in countries: # 'USA'がcountriesの中にある場合\n",
    "    print('OK') \n",
    "else:\n",
    "    print('NG')"
   ],
   "outputs": [
    {
     "output_type": "stream",
     "name": "stdout",
     "text": [
      "3\n",
      "OK\n"
     ]
    }
   ],
   "metadata": {}
  },
  {
   "cell_type": "markdown",
   "source": [
    "#### リストのメソッド\n",
    "- append\n",
    "- sort\n",
    "- remove"
   ],
   "metadata": {}
  },
  {
   "cell_type": "code",
   "execution_count": 9,
   "source": [
    "countries = ['USA', 'UK', 'Japan']\n",
    "countries.append('China') # リストに追加\n",
    "print(countries)\n",
    "print(countries.index('UK')) # indexを求める\n",
    "print(countries[1:-1]) # 部分リストを表示\n",
    "\n",
    "countries.sort() # 辞書順にソート\n",
    "print(countries)\n",
    "\n",
    "countries.remove('UK') # リストにある値を消去\n",
    "print(countries)"
   ],
   "outputs": [
    {
     "output_type": "stream",
     "name": "stdout",
     "text": [
      "['USA', 'UK', 'Japan', 'China']\n",
      "1\n",
      "['UK', 'Japan']\n",
      "['China', 'Japan', 'UK', 'USA']\n",
      "['China', 'Japan', 'USA']\n"
     ]
    }
   ],
   "metadata": {}
  },
  {
   "cell_type": "markdown",
   "source": [
    "#### 内包表現\n",
    "```python\n",
    "array = [i for i in range(N)] # 0からN-1までのリストを作る\n",
    "```"
   ],
   "metadata": {}
  },
  {
   "cell_type": "code",
   "execution_count": 10,
   "source": [
    "array = [i for i in range(10)]\n",
    "print(\"0から9までのリスト: \", array)\n",
    "\n",
    "odd_array = [x for x in array if x%2 != 0]\n",
    "print(\"奇数のリスト: \", odd_array)"
   ],
   "outputs": [
    {
     "output_type": "stream",
     "name": "stdout",
     "text": [
      "0から9までのリスト:  [0, 1, 2, 3, 4, 5, 6, 7, 8, 9]\n",
      "奇数のリスト:  [1, 3, 5, 7, 9]\n"
     ]
    }
   ],
   "metadata": {}
  },
  {
   "cell_type": "markdown",
   "source": [
    "#### 注意点: 参照渡しと値渡し\n",
    "リストの値が渡されるのではなく，参照が渡される．   \n",
    "コピーする時は気をつけてコピーする必要がある．  \n",
    "\n",
    "参考資料: [Pythonでリストの深いコピー](http://eibiisii.hateblo.jp/entry/2014/07/09/235438)"
   ],
   "metadata": {}
  },
  {
   "cell_type": "code",
   "execution_count": 11,
   "source": [
    "b = countries # 参照をコピーする\n",
    "b.pop() # bにのみ変更を加える\n",
    "print(b)\n",
    "print(countries) # countriesにも影響がある"
   ],
   "outputs": [
    {
     "output_type": "stream",
     "name": "stdout",
     "text": [
      "['China', 'Japan']\n",
      "['China', 'Japan']\n"
     ]
    }
   ],
   "metadata": {}
  },
  {
   "cell_type": "code",
   "execution_count": 12,
   "source": [
    "a = countries[:] # 参照ではなく，値をコピーする\n",
    "a.pop() # aにのみ変更を加える\n",
    "print(a)\n",
    "print(countries)"
   ],
   "outputs": [
    {
     "output_type": "stream",
     "name": "stdout",
     "text": [
      "['China']\n",
      "['China', 'Japan']\n"
     ]
    }
   ],
   "metadata": {}
  },
  {
   "cell_type": "code",
   "execution_count": 13,
   "source": [
    "# 深いコピーの例\n",
    "import copy\n",
    "obj = [{'a': 10}]\n",
    "deepcopied = copy.deepcopy(obj)\n",
    "print('obj   :', id(obj[0]))\n",
    "print('copied:', id(deepcopied[0]))"
   ],
   "outputs": [
    {
     "output_type": "stream",
     "name": "stdout",
     "text": [
      "obj   : 4536566472\n",
      "copied: 4536551816\n"
     ]
    }
   ],
   "metadata": {}
  },
  {
   "cell_type": "markdown",
   "source": [
    "### 2-2-3. 辞書\n",
    "Pythonにおける連想配列を「辞書」と呼ぶ．  \n",
    "keyとvalueをペアにして保存するデータ構造である．"
   ],
   "metadata": {}
  },
  {
   "cell_type": "code",
   "execution_count": 14,
   "source": [
    "d = {}\n",
    "d['a'] = 'art' # dict[key] = value という形で辞書に追加\n",
    "d['b'] = 'beam'\n",
    "d['c'] = 'circuit'\n",
    "print(d)"
   ],
   "outputs": [
    {
     "output_type": "stream",
     "name": "stdout",
     "text": [
      "{'a': 'art', 'c': 'circuit', 'b': 'beam'}\n"
     ]
    }
   ],
   "metadata": {}
  },
  {
   "cell_type": "code",
   "execution_count": 15,
   "source": [
    "print(d.get('a')) # dからkeyが'a'となるものを取り出す\n",
    "print(d['a']) # dからkeyが'a'となるものを取り出す(2)"
   ],
   "outputs": [
    {
     "output_type": "stream",
     "name": "stdout",
     "text": [
      "art\n",
      "art\n"
     ]
    }
   ],
   "metadata": {}
  },
  {
   "cell_type": "code",
   "execution_count": 16,
   "source": [
    "print(d.keys()) # keyのリスト\n",
    "print(d.values()) # valueのリスト"
   ],
   "outputs": [
    {
     "output_type": "stream",
     "name": "stdout",
     "text": [
      "dict_keys(['a', 'c', 'b'])\n",
      "dict_values(['art', 'circuit', 'beam'])\n"
     ]
    }
   ],
   "metadata": {}
  },
  {
   "cell_type": "code",
   "execution_count": 17,
   "source": [
    "for key, value in d.items():\n",
    "    print(key + ':' + value)"
   ],
   "outputs": [
    {
     "output_type": "stream",
     "name": "stdout",
     "text": [
      "a:art\n",
      "c:circuit\n",
      "b:beam\n"
     ]
    }
   ],
   "metadata": {}
  },
  {
   "cell_type": "code",
   "execution_count": 18,
   "source": [
    "del d['b'] # keyが'b'となるエントリを消す\n",
    "print(d)"
   ],
   "outputs": [
    {
     "output_type": "stream",
     "name": "stdout",
     "text": [
      "{'a': 'art', 'c': 'circuit'}\n"
     ]
    }
   ],
   "metadata": {}
  },
  {
   "cell_type": "markdown",
   "source": [
    "## 2-3. [練習問題](./../exercise/questions.md#chapter-2)"
   ],
   "metadata": {
    "collapsed": true
   }
  }
 ],
 "metadata": {
  "kernelspec": {
   "name": "python3",
   "display_name": "Python 3.9.7 64-bit ('main': conda)"
  },
  "language_info": {
   "codemirror_mode": {
    "name": "ipython",
    "version": 3
   },
   "file_extension": ".py",
   "mimetype": "text/x-python",
   "name": "python",
   "nbconvert_exporter": "python",
   "pygments_lexer": "ipython3",
   "version": "3.9.7"
  },
  "interpreter": {
   "hash": "50a13140c5358db837e7d7cdc12e24c9cfbb5f58e02f3296dcd8fc6eed3e7049"
  }
 },
 "nbformat": 4,
 "nbformat_minor": 2
}