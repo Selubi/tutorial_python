{
 "cells": [
  {
   "cell_type": "code",
   "execution_count": 1,
   "source": [
    "print(1+1)"
   ],
   "outputs": [
    {
     "output_type": "stream",
     "name": "stdout",
     "text": [
      "2\n"
     ]
    }
   ],
   "metadata": {}
  },
  {
   "cell_type": "markdown",
   "source": [
    "1"
   ],
   "metadata": {}
  },
  {
   "cell_type": "code",
   "execution_count": 2,
   "source": [
    "x=0\n",
    "for i in range(1,101):\n",
    "    x+=i\n",
    "print(x)"
   ],
   "outputs": [
    {
     "output_type": "stream",
     "name": "stdout",
     "text": [
      "5050\n"
     ]
    }
   ],
   "metadata": {}
  },
  {
   "cell_type": "markdown",
   "source": [
    "2"
   ],
   "metadata": {}
  },
  {
   "cell_type": "code",
   "execution_count": 4,
   "source": [
    "n1 =int(input(\"num 1>\"))\n",
    "n2 =int(input(\"num 2>\"))\n",
    "print(n1)\n",
    "print(type(n1))\n",
    "print(n1*n2)"
   ],
   "outputs": [
    {
     "output_type": "stream",
     "name": "stdout",
     "text": [
      "43\n",
      "<class 'int'>\n",
      "2408\n"
     ]
    }
   ],
   "metadata": {}
  },
  {
   "cell_type": "markdown",
   "source": [
    "3"
   ],
   "metadata": {}
  },
  {
   "cell_type": "code",
   "execution_count": null,
   "source": [
    "N=int(input(\"insert upper boundary\"))\n",
    "for i in range(1,N+1):\n",
    "    if(i%5==0 and i%3==0):\n",
    "        print(\"FizzBuzz\")\n",
    "        continue\n",
    "    if(i%5==0):\n",
    "        print(\"Buzz\")\n",
    "        continue\n",
    "    if(i%3==0):\n",
    "        print(\"Fizz\")\n",
    "        continue\n",
    "    print(i)\n",
    "\n",
    "\n"
   ],
   "outputs": [
    {
     "output_type": "stream",
     "name": "stdout",
     "text": [
      "1\n",
      "2\n",
      "Fizz\n",
      "4\n",
      "Buzz\n",
      "Fizz\n",
      "7\n",
      "8\n",
      "Fizz\n",
      "Buzz\n",
      "11\n",
      "Fizz\n",
      "13\n",
      "14\n",
      "FizzBuzz\n",
      "16\n",
      "17\n",
      "Fizz\n",
      "19\n",
      "Buzz\n",
      "Fizz\n",
      "22\n",
      "23\n",
      "Fizz\n",
      "Buzz\n",
      "26\n",
      "Fizz\n",
      "28\n",
      "29\n",
      "FizzBuzz\n"
     ]
    }
   ],
   "metadata": {}
  },
  {
   "cell_type": "markdown",
   "source": [
    "4"
   ],
   "metadata": {}
  },
  {
   "cell_type": "code",
   "execution_count": null,
   "source": [
    "text=input(\"insert text\")\n",
    "for i in range(len(text)):\n",
    "    print(i,text[i])"
   ],
   "outputs": [
    {
     "output_type": "stream",
     "name": "stdout",
     "text": [
      "0 f\n",
      "1 g\n",
      "2 a\n",
      "3 s\n",
      "4 d\n",
      "5 a\n",
      "6 d\n",
      "7 v\n",
      "8 z\n",
      "9 s\n"
     ]
    }
   ],
   "metadata": {}
  },
  {
   "cell_type": "markdown",
   "source": [
    "5"
   ],
   "metadata": {}
  },
  {
   "cell_type": "code",
   "execution_count": 27,
   "source": [
    "number=input(\"insert number\")\n",
    "N=len(number)\n",
    "for i in range(N):\n",
    "    if((N-i)%3==0 and i!=0):\n",
    "        print(\",\",end=\"\")\n",
    "    print(number[i],end=\"\")"
   ],
   "outputs": [
    {
     "output_type": "stream",
     "name": "stdout",
     "text": [
      "213"
     ]
    }
   ],
   "metadata": {}
  },
  {
   "cell_type": "markdown",
   "source": [
    "6"
   ],
   "metadata": {}
  },
  {
   "cell_type": "code",
   "execution_count": 35,
   "source": [
    "f = open(\"./IO/fizzbuzz.txt\",\"w\")\n",
    "N=int(input(\"insert upper boundary\"))\n",
    "a=[]\n",
    "for i in range(1,N+1):\n",
    "    if(i%5==0 and i%3==0):\n",
    "        a.append(\"FizzBuzz\")\n",
    "        continue\n",
    "    if(i%5==0):\n",
    "        a.append(\"Buzz\")\n",
    "        continue\n",
    "    if(i%3==0):\n",
    "        a.append(\"Fizz\")\n",
    "        continue\n",
    "    a.append(str(i))\n",
    "\n",
    "for i in a:\n",
    "    f.write(i+\"\\n\")\n",
    "f.close()"
   ],
   "outputs": [
    {
     "output_type": "stream",
     "name": "stdout",
     "text": [
      "['1', '2', 'Fizz', '4', 'Buzz', 'Fizz', '7', '8', 'Fizz', 'Buzz', '11', 'Fizz', '13', '14', 'FizzBuzz', '16', '17', 'Fizz', '19', 'Buzz', 'Fizz', '22', '23', 'Fizz', 'Buzz', '26', 'Fizz', '28', '29', 'FizzBuzz', '31', '32', 'Fizz', '34', 'Buzz', 'Fizz', '37', '38', 'Fizz', 'Buzz', '41', 'Fizz', '43', '44', 'FizzBuzz', '46', '47', 'Fizz', '49', 'Buzz', 'Fizz', '52', '53']\n"
     ]
    }
   ],
   "metadata": {}
  },
  {
   "cell_type": "code",
   "execution_count": null,
   "source": [],
   "outputs": [],
   "metadata": {}
  }
 ],
 "metadata": {
  "orig_nbformat": 4,
  "language_info": {
   "name": "python",
   "version": "3.9.7",
   "mimetype": "text/x-python",
   "codemirror_mode": {
    "name": "ipython",
    "version": 3
   },
   "pygments_lexer": "ipython3",
   "nbconvert_exporter": "python",
   "file_extension": ".py"
  },
  "kernelspec": {
   "name": "python3",
   "display_name": "Python 3.9.7 64-bit ('main': conda)"
  },
  "interpreter": {
   "hash": "50a13140c5358db837e7d7cdc12e24c9cfbb5f58e02f3296dcd8fc6eed3e7049"
  }
 },
 "nbformat": 4,
 "nbformat_minor": 2
}