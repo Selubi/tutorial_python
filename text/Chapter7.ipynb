{
 "cells": [
  {
   "cell_type": "code",
   "execution_count": 1,
   "id": "b9e64747",
   "metadata": {},
   "outputs": [],
   "source": [
    "import warnings\n",
    "warnings.filterwarnings('ignore') # 実行に影響のない　warninig　を非表示にします. 非推奨.\n",
    "import matplotlib.pyplot as plt\n",
    "import numpy as np\n",
    "import pandas as pd\n",
    "%matplotlib inline"
   ]
  },
  {
   "cell_type": "markdown",
   "id": "956a3522",
   "metadata": {},
   "source": [
    "# 7. PyMC3による（ベイズ）線形回帰\n",
    "確率的モデリング用ライブラリとして有名な**PyMC3**を利用して線形回帰を行ってみる<br>\n",
    "## 7-1. ライブラリのダウンロード！！\n",
    "```\n",
    "conda install -c conda-forge pymc3\n",
    "```\n",
    "実験時のバージョンは3.10.0"
   ]
  },
  {
   "cell_type": "code",
   "execution_count": 2,
   "id": "a9d2073d",
   "metadata": {},
   "outputs": [
    {
     "name": "stdout",
     "output_type": "stream",
     "text": [
      "Running on PyMC3 v3.10.0\n"
     ]
    }
   ],
   "source": [
    "import pymc3 as pm\n",
    "print(f\"Running on PyMC3 v{pm.__version__}\")"
   ]
  },
  {
   "cell_type": "markdown",
   "id": "b9f8593e",
   "metadata": {},
   "source": [
    "## 7-2. データセットをダウンロード&データの準備"
   ]
  },
  {
   "cell_type": "code",
   "execution_count": 3,
   "id": "a66841ba",
   "metadata": {},
   "outputs": [
    {
     "name": "stdout",
     "output_type": "stream",
     "text": [
      "--2021-09-28 17:39:40--  https://archive.ics.uci.edu/ml/machine-learning-databases/wine-quality/winequality-red.csv\n",
      "archive.ics.uci.edu (archive.ics.uci.edu) をDNSに問いあわせています... 128.195.10.252\n",
      "archive.ics.uci.edu (archive.ics.uci.edu)|128.195.10.252|:443 に接続しています... 接続しました。\n",
      "HTTP による接続要求を送信しました、応答を待っています... 200 OK\n",
      "長さ: 84199 (82K) [application/x-httpd-php]\n",
      "`winequality-red.csv' に保存中\n",
      "\n",
      "100%[======================================>] 84,199       368KB/s 時間 0.2s     \n",
      "\n",
      "2021-09-28 17:39:41 (368 KB/s) - `winequality-red.csv' へ保存完了 [84199/84199]\n",
      "\n"
     ]
    }
   ],
   "source": [
    "! wget https://archive.ics.uci.edu/ml/machine-learning-databases/wine-quality/winequality-red.csv\n",
    "! mv winequality-red.csv data/winequality-red.csv"
   ]
  },
  {
   "cell_type": "code",
   "execution_count": 4,
   "id": "3d6ae2d8",
   "metadata": {},
   "outputs": [
    {
     "data": {
      "text/html": [
       "<div>\n",
       "<style scoped>\n",
       "    .dataframe tbody tr th:only-of-type {\n",
       "        vertical-align: middle;\n",
       "    }\n",
       "\n",
       "    .dataframe tbody tr th {\n",
       "        vertical-align: top;\n",
       "    }\n",
       "\n",
       "    .dataframe thead th {\n",
       "        text-align: right;\n",
       "    }\n",
       "</style>\n",
       "<table border=\"1\" class=\"dataframe\">\n",
       "  <thead>\n",
       "    <tr style=\"text-align: right;\">\n",
       "      <th></th>\n",
       "      <th>fixed acidity</th>\n",
       "      <th>volatile acidity</th>\n",
       "      <th>citric acid</th>\n",
       "      <th>residual sugar</th>\n",
       "      <th>chlorides</th>\n",
       "      <th>free sulfur dioxide</th>\n",
       "      <th>total sulfur dioxide</th>\n",
       "      <th>density</th>\n",
       "      <th>pH</th>\n",
       "      <th>sulphates</th>\n",
       "      <th>alcohol</th>\n",
       "      <th>quality</th>\n",
       "    </tr>\n",
       "  </thead>\n",
       "  <tbody>\n",
       "    <tr>\n",
       "      <th>0</th>\n",
       "      <td>7.4</td>\n",
       "      <td>0.70</td>\n",
       "      <td>0.00</td>\n",
       "      <td>1.9</td>\n",
       "      <td>0.076</td>\n",
       "      <td>11.0</td>\n",
       "      <td>34.0</td>\n",
       "      <td>0.9978</td>\n",
       "      <td>3.51</td>\n",
       "      <td>0.56</td>\n",
       "      <td>9.4</td>\n",
       "      <td>5</td>\n",
       "    </tr>\n",
       "    <tr>\n",
       "      <th>1</th>\n",
       "      <td>7.8</td>\n",
       "      <td>0.88</td>\n",
       "      <td>0.00</td>\n",
       "      <td>2.6</td>\n",
       "      <td>0.098</td>\n",
       "      <td>25.0</td>\n",
       "      <td>67.0</td>\n",
       "      <td>0.9968</td>\n",
       "      <td>3.20</td>\n",
       "      <td>0.68</td>\n",
       "      <td>9.8</td>\n",
       "      <td>5</td>\n",
       "    </tr>\n",
       "    <tr>\n",
       "      <th>2</th>\n",
       "      <td>7.8</td>\n",
       "      <td>0.76</td>\n",
       "      <td>0.04</td>\n",
       "      <td>2.3</td>\n",
       "      <td>0.092</td>\n",
       "      <td>15.0</td>\n",
       "      <td>54.0</td>\n",
       "      <td>0.9970</td>\n",
       "      <td>3.26</td>\n",
       "      <td>0.65</td>\n",
       "      <td>9.8</td>\n",
       "      <td>5</td>\n",
       "    </tr>\n",
       "    <tr>\n",
       "      <th>3</th>\n",
       "      <td>11.2</td>\n",
       "      <td>0.28</td>\n",
       "      <td>0.56</td>\n",
       "      <td>1.9</td>\n",
       "      <td>0.075</td>\n",
       "      <td>17.0</td>\n",
       "      <td>60.0</td>\n",
       "      <td>0.9980</td>\n",
       "      <td>3.16</td>\n",
       "      <td>0.58</td>\n",
       "      <td>9.8</td>\n",
       "      <td>6</td>\n",
       "    </tr>\n",
       "    <tr>\n",
       "      <th>4</th>\n",
       "      <td>7.4</td>\n",
       "      <td>0.70</td>\n",
       "      <td>0.00</td>\n",
       "      <td>1.9</td>\n",
       "      <td>0.076</td>\n",
       "      <td>11.0</td>\n",
       "      <td>34.0</td>\n",
       "      <td>0.9978</td>\n",
       "      <td>3.51</td>\n",
       "      <td>0.56</td>\n",
       "      <td>9.4</td>\n",
       "      <td>5</td>\n",
       "    </tr>\n",
       "  </tbody>\n",
       "</table>\n",
       "</div>"
      ],
      "text/plain": [
       "   fixed acidity  volatile acidity  citric acid  residual sugar  chlorides  \\\n",
       "0            7.4              0.70         0.00             1.9      0.076   \n",
       "1            7.8              0.88         0.00             2.6      0.098   \n",
       "2            7.8              0.76         0.04             2.3      0.092   \n",
       "3           11.2              0.28         0.56             1.9      0.075   \n",
       "4            7.4              0.70         0.00             1.9      0.076   \n",
       "\n",
       "   free sulfur dioxide  total sulfur dioxide  density    pH  sulphates  \\\n",
       "0                 11.0                  34.0   0.9978  3.51       0.56   \n",
       "1                 25.0                  67.0   0.9968  3.20       0.68   \n",
       "2                 15.0                  54.0   0.9970  3.26       0.65   \n",
       "3                 17.0                  60.0   0.9980  3.16       0.58   \n",
       "4                 11.0                  34.0   0.9978  3.51       0.56   \n",
       "\n",
       "   alcohol  quality  \n",
       "0      9.4        5  \n",
       "1      9.8        5  \n",
       "2      9.8        5  \n",
       "3      9.8        6  \n",
       "4      9.4        5  "
      ]
     },
     "metadata": {},
     "output_type": "display_data"
    }
   ],
   "source": [
    "wine = pd.read_csv(\"./data/winequality-red.csv\", sep=\";\") # sepは区切り文字の指定\n",
    "display(wine.head(5))\n",
    "np.random.seed(0) # random　の挙動を固定\n",
    "\n",
    "X = wine[[\"density\"]].values\n",
    "T = wine[\"alcohol\"].values\n",
    "X = X - X.mean()\n",
    "T = T - T.mean()\n",
    "\n",
    "#X, Tそれぞれが最小値0, 最大値1になるように標準化\n",
    "#追加の前処理部分\n",
    "X = (X - X.min()) / (X.max() - X.min())\n",
    "T = (T - T.min()) / (T.max() - T.min())\n",
    "\n",
    "p = np.random.permutation(len(X))\n",
    "X = X[p]\n",
    "T = T[p]\n",
    "\n",
    "X_train = X[:1000, :]\n",
    "T_train = T[:1000]\n",
    "X_test = X[1000:, :]\n",
    "T_test = T[1000:]\n",
    "\n",
    "data = dict(x=X_train, y=T_train)"
   ]
  },
  {
   "cell_type": "code",
   "execution_count": 5,
   "id": "b9621646",
   "metadata": {},
   "outputs": [
    {
     "data": {
      "image/png": "[encoded data removed]",
      "text/plain": [
       "<Figure size 504x504 with 1 Axes>"
      ]
     },
     "metadata": {
      "needs_background": "light"
     },
     "output_type": "display_data"
    }
   ],
   "source": [
    "fig = plt.figure(figsize=(7, 7))\n",
    "ax = fig.add_subplot(111, xlabel=\"x\", ylabel=\"y\", title=\"Generated data and underlying model\")\n",
    "ax.scatter(X_train, T_train, marker=\".\", label=\"sampled data\")\n",
    "plt.legend(loc=0);"
   ]
  },
  {
   "cell_type": "markdown",
   "id": "8bb90abb",
   "metadata": {},
   "source": [
    "## 7-3. モデル構築から事後分布導出まで\n",
    "pytorchではどんなlossを使用するのか，いつ学習を行うのか，データはいくつに分割するのか，などを一つ一つ丁寧に定義していきました．<br>\n",
    "しかしながら尤度最大化を最終目的とする確率モデリングでは（基本的に）それぞれのパラメータが従う分布さえ与えてやれば損失関数などは与える必要がありません．<br>\n",
    "事前知識や既知の事実をパラメータとして与えることができる上に記述が簡素で読みやすいのがPyMC3の特徴です．**ただし計算量は大きい**<br><br>\n",
    "以下では先ほどのwineデータに対して\n",
    "$$\n",
    "\\begin{eqnarray}\n",
    "p({\\bf t|w}) &=& \\prod_{n=1}^N{\\mathcal N}(t_n|{\\bf w^{\\rm T}x}, \\lambda)\\\\\n",
    "p({\\bf w}) &=& {\\mathcal N}({\\bf w|0}, {\\bf 1})\\\\\n",
    "p(\\lambda) &=& {\\rm Gamma}(\\lambda|mu=1, sigma=0,2)\n",
    "\\end{eqnarray}\n",
    "$$\n",
    "と言う分布を仮定して回帰を行ってみます．<br>\n",
    "データに対してフィットするように事後分布を求めるのが目標ですが，こちらも**基本的に解析的に求めれない**ことを仮定しているので**MCMC**とよばれる手法を使用して事後分布を求めています．これについてはまだ先で学ぶことだと思うので，今は**非解析的に事後分布を求める手法**とざっくり考えておいてもらっても良いかと思います．\n",
    "<br>（ガンマ分布のパラメータとして今回は平均，分散を与えました．もちろん$\\alpha, \\beta$での初期化も可能です．）"
   ]
  },
  {
   "cell_type": "code",
   "execution_count": 6,
   "id": "5c565c67",
   "metadata": {},
   "outputs": [
    {
     "name": "stderr",
     "output_type": "stream",
     "text": [
      "Auto-assigning NUTS sampler...\n",
      "Initializing NUTS using jitter+adapt_diag...\n",
      "Multiprocess sampling (4 chains in 4 jobs)\n",
      "NUTS: [x_coeff, Intercept, sigma]\n"
     ]
    },
    {
     "name": "stdout",
     "output_type": "stream",
     "text": [
      "█\r"
     ]
    },
    {
     "name": "stderr",
     "output_type": "stream",
     "text": [
      "Sampling 4 chains for 1_000 tune and 1_000 draw iterations (4_000 + 4_000 draws total) took 4 seconds.\n"
     ]
    }
   ],
   "source": [
    "inf = 10000\n",
    "\n",
    "\n",
    "with pm.Model() as model:#以下のコードブロック中でそれぞれの分布を定義する\n",
    "    \n",
    "    #このコードブロック内で定義されたパラメータが順にモデルに追加されていく\n",
    "    \n",
    "    #https://docs.pymc.io/api/distributions/continuous.html\n",
    "    #他にも色々な分布形が用意されている\n",
    "    \n",
    "    #各パラメータの分布定義\n",
    "    sigma = pm.Gamma(\"sigma\", mu=1, sigma=0.2)#データの分散に対する事前分布\n",
    "    intercept = pm.Normal(\"Intercept\", 0, sigma=1)#切片に対する事前分布\n",
    "    x_coeff = pm.Normal(\"x_coeff\", 0, sigma=1)#係数に関する事前分布\n",
    "    \n",
    "    #観測値\n",
    "    x = pm.Data(\"x\", X_train.reshape(-1))\n",
    "    t = pm.Data(\"t\", T_train.reshape(-1))\n",
    "    \n",
    "    \n",
    "    #尤度定義\n",
    "    likelihood = pm.Normal(\"y\", mu=intercept + x_coeff * x, sigma=sigma, observed=t)\n",
    "    idata = pm.sample(return_inferencedata=True)"
   ]
  },
  {
   "cell_type": "markdown",
   "id": "82057b88",
   "metadata": {},
   "source": [
    "## 7-4. パラメータ事後分布の可視化\n",
    "では実際に推論の結果求まった事後分布を可視化してみる．まずは各パラメータの事後分布から．<br>\n",
    "左には導出されたパラメータの分布が表示される．（点線は本来捨てられる初期の探索を含んだもの．一旦無視して良い．**筈．間違ってたら教えて欲しい**）<br>\n",
    "右にはMCMCでの探索の経路が表示される．（こちらも一旦無視して良い）"
   ]
  },
  {
   "cell_type": "code",
   "execution_count": null,
   "id": "0cfdcc83",
   "metadata": {},
   "outputs": [],
   "source": [
    "plt.figure(figsize=(7, 7))\n",
    "pm.traceplot(idata)\n",
    "plt.tight_layout();"
   ]
  },
  {
   "cell_type": "markdown",
   "id": "ae729a7d",
   "metadata": {},
   "source": [
    "与えた事前分布が変化しているのを確認して欲しい．<br>\n",
    "次に各入力に対する予測分布も可視化してみる"
   ]
  },
  {
   "cell_type": "code",
   "execution_count": null,
   "id": "529c04a1",
   "metadata": {},
   "outputs": [],
   "source": [
    "lin_x = np.linspace(0, 1, 11)\n",
    "with model:\n",
    "    pm.set_data(\n",
    "        {\n",
    "            \"x\": lin_x,\n",
    "            \"t\": np.zeros_like(lin_x),\n",
    "        }\n",
    "    )\n",
    "    post_pred = pm.sample_posterior_predictive(idata.posterior)"
   ]
  },
  {
   "cell_type": "code",
   "execution_count": null,
   "id": "ede8a140",
   "metadata": {},
   "outputs": [],
   "source": [
    "fig = plt.figure(figsize=(7, 7))\n",
    "ax = fig.add_subplot(111, xlabel=\"x\", ylabel=\"y\", title=\"Generated data and underlying model\")\n",
    "\n",
    "\n",
    "#学習，推論に用いたデータの描写\n",
    "ax.scatter(X_train, T_train, marker=\".\", label=\"sampled data\", alpha=0.2)\n",
    "\n",
    "#予測線の描写\n",
    "#事後分布（MCMCの探索履歴）から切片と傾きをランダムにサンプリングして100個表示する\n",
    "for _ in range(100):\n",
    "    chain = np.random.randint(0, 3)\n",
    "    draw = np.random.randint(0, 999)\n",
    "    coeff = float(idata.posterior.x_coeff[chain][draw])\n",
    "    inter = float(idata.posterior.Intercept[chain][draw])\n",
    "    ax.plot(lin_x, lin_x*coeff+inter, c='g', alpha=0.02)\n",
    "\n",
    "#各入力値における確率分布の描写\n",
    "#今回の例では原理的にどんな入力に対しても同じ種類，　同じ分散の分布になる（平均は違う）\n",
    "for i in range(1, 11, 2):\n",
    "    #print(len(post_pred['y'][:, i]))\n",
    "    dist = np.array(np.histogram(post_pred['y'][:, i], bins=30))\n",
    "    mu, var = np.average(post_pred['y'][:, i]), np.var(post_pred['y'][:, i])\n",
    "    print(f'x: {lin_x[i]}, mu: {mu}, var: {var}')\n",
    "    dist[0] = dist[0] / len(post_pred['y'][:, i]) + lin_x[i]\n",
    "    ax.plot(dist[0], dist[1][:-1], c = 'black')\n",
    "    ind = np.argmax(dist[0])\n",
    "    ax.scatter(lin_x[i], dist[1][ind], c = 'red')\n",
    "    ax.axvline(x=lin_x[i], c = 'black')\n",
    "\n",
    "plt.legend(loc=0)"
   ]
  }
 ],
 "metadata": {
  "kernelspec": {
   "display_name": "Environment (conda_withide)",
   "language": "python",
   "name": "conda_withide"
  },
  "language_info": {
   "codemirror_mode": {
    "name": "ipython",
    "version": 3
   },
   "file_extension": ".py",
   "mimetype": "text/x-python",
   "name": "python",
   "nbconvert_exporter": "python",
   "pygments_lexer": "ipython3",
   "version": "3.6.9"
  }
 },
 "nbformat": 4,
 "nbformat_minor": 5
}
