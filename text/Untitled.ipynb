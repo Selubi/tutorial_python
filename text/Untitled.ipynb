{
 "cells": [
  {
   "cell_type": "code",
   "execution_count": 1,
   "metadata": {},
   "outputs": [],
   "source": [
    "import warnings\n",
    "warnings.filterwarnings('ignore') # 実行に影響のない　warninig　を非表示にします. 非推奨."
   ]
  },
  {
   "cell_type": "markdown",
   "metadata": {},
   "source": [
    "# Chapter 9: Pytorchによる転移学習\n",
    "~~猫も杓子もディープラーニングのこの時代．理由はわからんが乗るしかねぇこのビッグウェーブに．~~<br>\n",
    "ここではpytorchによる転移学習の実装を行います．<br>\n",
    "転移学習とは，事前に他のデータセットで学習した深層学習モデルを特徴量生成器（次元削減器）として使用することで学習用データが少ない時でも過学習しないモデルを作るといったアプローチです<br>\n",
    "今回は[Chapter8](./Chapter8.ipynb)で作成した分類器を用いて「０」「１」を分類するモデルを転移学習で作成していきます．<br>"
   ]
  },
  {
   "cell_type": "code",
   "execution_count": 2,
   "metadata": {},
   "outputs": [
    {
     "name": "stdout",
     "output_type": "stream",
     "text": [
      "1.9.1\n"
     ]
    }
   ],
   "source": [
    "import torch\n",
    "import torchvision\n",
    "import torchvision.transforms as transforms\n",
    "import numpy as np\n",
    "import matplotlib.pyplot as plt\n",
    "%matplotlib inline\n",
    "print(torch.__version__)"
   ]
  },
  {
   "cell_type": "markdown",
   "metadata": {},
   "source": [
    "データセットの用意<br>\n",
    "**MNISTデータセットから「０」と「１」のみを抽出します**"
   ]
  },
  {
   "cell_type": "code",
   "execution_count": 3,
   "metadata": {},
   "outputs": [
    {
     "name": "stdout",
     "output_type": "stream",
     "text": [
      "10000\n",
      "1000\n"
     ]
    }
   ],
   "source": [
    "#データの前処理を行うクラスインスタンス\n",
    "transform = transforms.Compose(\n",
    "    [transforms.Resize((16, 16)),\n",
    "     transforms.ToTensor(),\n",
    "     transforms.Normalize((0.5, ), (0.5, ))])\n",
    "\n",
    "batch_size = 100\n",
    "\n",
    "#使用するtrainデータセット\n",
    "trainset = torchvision.datasets.MNIST(root='./data', \n",
    "                                        train=True,\n",
    "                                        download=True,\n",
    "                                        transform=transform)\n",
    "mask = ((trainset.targets == 1) | (trainset.targets == 0))\n",
    "trainset.data = trainset.data[mask]\n",
    "trainset.targets = trainset.targets[mask]\n",
    "#データ分割\n",
    "trainset, _ = torch.utils.data.random_split(trainset, [10000, len(trainset)-10000])\n",
    "print(len(trainset))\n",
    "\n",
    "#trainデータをbatchごとに逐次的に取り出してくれるクラスインスタンス\n",
    "trainloader = torch.utils.data.DataLoader(trainset,\n",
    "                                            batch_size=batch_size,\n",
    "                                            shuffle=True)\n",
    "\n",
    "#使用するtestデータセット（以下略）\n",
    "testset = torchvision.datasets.MNIST(root='./data', \n",
    "                                        train=False, \n",
    "                                        download=True, \n",
    "                                        transform=transform)\n",
    "mask = ((testset.targets == 1) | (testset.targets == 0))\n",
    "testset.data = testset.data[mask]\n",
    "testset.targets = testset.targets[mask]\n",
    "\n",
    "testset, _ = torch.utils.data.random_split(testset, [1000, len(testset)-1000])\n",
    "print(len(testset))\n",
    "\n",
    "testloader = torch.utils.data.DataLoader(testset, \n",
    "                                            batch_size=batch_size,\n",
    "                                            shuffle=False)"
   ]
  },
  {
   "cell_type": "raw",
   "metadata": {},
   "source": [
    "モデルの定義"
   ]
  },
  {
   "cell_type": "code",
   "execution_count": 4,
   "metadata": {},
   "outputs": [],
   "source": [
    "import torch.nn.functional as F\n",
    "#モデルの定義\n",
    "class NeuralNet(torch.nn.Module):\n",
    "    def __init__(self, n_input=256, n_hidden=16, n_output=8):\n",
    "        super(NeuralNet, self).__init__()\n",
    "        self.n_input = n_input\n",
    "        \n",
    "        #一層目と二層目の重み行列の定義\n",
    "        self.l1 = torch.nn.Linear(n_input,  n_hidden, bias = True)\n",
    "        self.l2 = torch.nn.Linear(n_hidden, n_hidden, bias = True)\n",
    "        self.l3 = torch.nn.Linear(n_hidden, n_output, bias = True)\n",
    "        \n",
    "    def forward(self, x):\n",
    "        #画像データ(２次元）を1次元に落とす\n",
    "        x = x.view(-1, self.n_input)\n",
    "        \n",
    "        #一層目の重み行列をかける\n",
    "        a1 = self.l1(x)\n",
    "        \n",
    "        #活性化関数に通す\n",
    "        h1 = F.sigmoid(a1)\n",
    "        #h1 = F.relu(a1)\n",
    "        \n",
    "        #二層目の重み行列をかける\n",
    "        a2 = self.l2(h1)\n",
    "        \n",
    "        #活性化関数に通す\n",
    "        h2 = F.sigmoid(a2)\n",
    "        #h2 = F.relu(a2)\n",
    "        \n",
    "        #三層目の重み行列をかける\n",
    "        a3 = self.l3(h2)\n",
    "        \n",
    "        return a3"
   ]
  },
  {
   "cell_type": "code",
   "execution_count": 5,
   "metadata": {},
   "outputs": [],
   "source": [
    "#モデルインスタンスの作成\n",
    "model = NeuralNet()\n",
    "'''\n",
    "ここで先ほど作成して保存したモデルの情報を呼び出して今回の分類モデルのパラメータに代入します\n",
    "'''\n",
    "model.load_state_dict(torch.load(\"params/model_state_dict.pth\"), strict=False)"
   ]
  },
  {
   "cell_type": "markdown",
   "metadata": {},
   "source": [
    "一度予測をさせてみます．\\\n",
    "前回作成したモデルは2~9までの数字しか分類できないので結果はトンチキなものになります"
   ]
  },
  {
   "cell_type": "code",
   "execution_count": 6,
   "metadata": {},
   "outputs": [
    {
     "name": "stdout",
     "output_type": "stream",
     "text": [
      "true: 1, predict: 5\n",
      "true: 0, predict: 5\n",
      "true: 0, predict: 5\n",
      "true: 1, predict: 5\n",
      "true: 1, predict: 5\n",
      "true: 1, predict: 5\n",
      "true: 0, predict: 5\n",
      "true: 1, predict: 5\n",
      "true: 0, predict: 5\n",
      "true: 0, predict: 5\n"
     ]
    },
    {
     "data": {
      "image/png": "[encoded data removed]",
      "text/plain": [
       "<Figure size 864x288 with 10 Axes>"
      ]
     },
     "metadata": {
      "needs_background": "light"
     },
     "output_type": "display_data"
    }
   ],
   "source": [
    "#モデルの予想を可視化する関数の作成\n",
    "def prediction(model, num=10, c=2):\n",
    "    with torch.no_grad():\n",
    "        img, t = testloader.__iter__().next()\n",
    "        t_pred = model(img)\n",
    "        fig = plt.figure(figsize=(12,4))\n",
    "        ax = []\n",
    "        for i in range(num):\n",
    "            print(f'true: {t[i]}, predict: {np.argmax(t_pred[i])+c}')\n",
    "            ax.append(fig.add_subplot(1, num, i+1))\n",
    "            ax[i].imshow(img[i, 0], cmap='gray')\n",
    "        plt.show()\n",
    "\n",
    "#学習前でどのような予測をするのかを表示\n",
    "prediction(model)"
   ]
  },
  {
   "cell_type": "markdown",
   "metadata": {},
   "source": [
    "転移学習の用意をします．"
   ]
  },
  {
   "cell_type": "code",
   "execution_count": 13,
   "metadata": {},
   "outputs": [],
   "source": [
    "for param in model.parameters():\n",
    "    param.requires_grad = False#モデルにある全てのパラメータを固定値に変換する\n",
    "    \n",
    "model.l3 = torch.nn.Linear(model.l3.in_features, 2)#モデルの最終層のパラメータを2クラス分類ように書き換えた上で学習パラメータに設定します\n",
    "model.l3.requires_grad = True#デフォルトでTrueなので本来は書く必要ないですが明示的に\n",
    "\n",
    "#loss関数の設定\n",
    "criterion = torch.nn.CrossEntropyLoss()\n",
    "\n",
    "#最適化手法の設定\n",
    "optimizer = torch.optim.SGD(model.parameters(), lr=0.1)\n",
    "#optimizer = torch.optim.Adam(model.parameters(), lr=0.01)"
   ]
  },
  {
   "cell_type": "code",
   "execution_count": 14,
   "metadata": {},
   "outputs": [
    {
     "name": "stdout",
     "output_type": "stream",
     "text": [
      "epoch: 30/30, train loss: 0.6680634021759033, test loss: 0.6683265566825867, test_acc: 867/1000....."
     ]
    }
   ],
   "source": [
    "#学習\n",
    "epochs = 30\n",
    "train_loss = []\n",
    "test_loss  = []\n",
    "test_acc = []\n",
    "train_num_batchs = np.ceil(len(trainset) / float(batch_size))\n",
    "test_num_batchs  = np.ceil(len(testset)  / float(batch_size))\n",
    "for epoch in range(epochs):\n",
    "    loss_sum = 0\n",
    "    #trainloaderからbatchごとのデータを取り出し\n",
    "    for X, t in trainloader:\n",
    "        t_pred = model(X)\n",
    "        loss = criterion(t_pred, t)\n",
    "        optimizer.zero_grad()\n",
    "        loss.backward()\n",
    "        optimizer.step()\n",
    "        loss_sum += loss.detach()\n",
    "    loss_sum /= train_num_batchs\n",
    "    train_loss.append(float(loss_sum))\n",
    "    #今回はテストデータに対する予測誤差や精度が各epochでどのように変化したのかを確かめます．\n",
    "    with torch.no_grad():\n",
    "        loss_sum = 0\n",
    "        correct = 0\n",
    "        for X, t in testloader:\n",
    "            t_pred = model(X)\n",
    "            loss = criterion(t_pred, t)\n",
    "            loss_sum += loss.detach()\n",
    "            pred = t_pred.argmax(dim=1, keepdim=True)\n",
    "            correct += pred.eq(t.view_as(pred)).sum().item()\n",
    "        loss_sum /= test_num_batchs\n",
    "        test_loss.append(float(loss_sum))\n",
    "        test_acc.append(correct/len(testloader))\n",
    "    print(f'\\repoch: {epoch+1}/{epochs}, train loss: {train_loss[epoch]}, test loss: {test_loss[epoch]}, test_acc: {correct}/{len(testset)}.....', end='')"
   ]
  },
  {
   "cell_type": "code",
   "execution_count": 9,
   "metadata": {},
   "outputs": [
    {
     "data": {
      "text/plain": [
       "[]"
      ]
     },
     "execution_count": 9,
     "metadata": {},
     "output_type": "execute_result"
    },
    {
     "data": {
      "image/png": "[encoded data removed]",
      "text/plain": [
       "<Figure size 864x288 with 2 Axes>"
      ]
     },
     "metadata": {
      "needs_background": "light"
     },
     "output_type": "display_data"
    }
   ],
   "source": [
    "fig = plt.figure(figsize=(12,4))\n",
    "\n",
    "ax1 = fig.add_subplot(1, 2, 1)\n",
    "ax1.plot(train_loss, c='b', label='train')\n",
    "ax1.plot(test_loss,  c='r', label='test')\n",
    "\n",
    "ax2 = fig.add_subplot(1, 2, 2)\n",
    "ax2.plot(test_acc, c='r', label='test')\n",
    "plt.plot()"
   ]
  },
  {
   "cell_type": "code",
   "execution_count": 10,
   "metadata": {},
   "outputs": [
    {
     "name": "stdout",
     "output_type": "stream",
     "text": [
      "true: 1, predict: 1\n",
      "true: 0, predict: 1\n",
      "true: 0, predict: 1\n",
      "true: 1, predict: 1\n",
      "true: 1, predict: 1\n",
      "true: 1, predict: 1\n",
      "true: 0, predict: 1\n",
      "true: 1, predict: 1\n",
      "true: 0, predict: 1\n",
      "true: 0, predict: 1\n"
     ]
    },
    {
     "data": {
      "image/png": "[encoded data removed]",
      "text/plain": [
       "<Figure size 864x288 with 10 Axes>"
      ]
     },
     "metadata": {
      "needs_background": "light"
     },
     "output_type": "display_data"
    }
   ],
   "source": [
    "prediction(model, c=0)"
   ]
  },
  {
   "cell_type": "markdown",
   "metadata": {},
   "source": [
    "ある程度の分類ができるようになっていると思います．\\\n",
    "うまく分類できているのが確認できたら，モデルのパラメータの代入部分\n",
    "```python\n",
    "model.load_state_dict(torch.load(\"params/model_state_dict.pth\"), strict=False)\n",
    "```\n",
    "などをコメントアウトしてもう一度学習させてみましょう．\n",
    "おそらく分類"
   ]
  },
  {
   "cell_type": "code",
   "execution_count": 11,
   "metadata": {},
   "outputs": [],
   "source": [
    "torch.save(model.state_dict(), \"params/01_model_state_dict.pth\")"
   ]
  }
 ],
 "metadata": {
  "kernelspec": {
   "display_name": "Environment (conda_intern)",
   "language": "python",
   "name": "conda_intern"
  },
  "language_info": {
   "codemirror_mode": {
    "name": "ipython",
    "version": 3
   },
   "file_extension": ".py",
   "mimetype": "text/x-python",
   "name": "python",
   "nbconvert_exporter": "python",
   "pygments_lexer": "ipython3",
   "version": "3.9.7"
  }
 },
 "nbformat": 4,
 "nbformat_minor": 4
}
