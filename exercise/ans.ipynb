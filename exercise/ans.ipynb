{
 "cells": [
  {
   "cell_type": "code",
   "execution_count": 1,
   "source": [
    "print(1+1)"
   ],
   "outputs": [
    {
     "output_type": "stream",
     "name": "stdout",
     "text": [
      "2\n"
     ]
    }
   ],
   "metadata": {}
  },
  {
   "cell_type": "markdown",
   "source": [
    "1"
   ],
   "metadata": {}
  },
  {
   "cell_type": "code",
   "execution_count": 2,
   "source": [
    "x=0\n",
    "for i in range(1,101):\n",
    "    x+=i\n",
    "print(x)"
   ],
   "outputs": [
    {
     "output_type": "stream",
     "name": "stdout",
     "text": [
      "5050\n"
     ]
    }
   ],
   "metadata": {}
  },
  {
   "cell_type": "markdown",
   "source": [
    "2"
   ],
   "metadata": {}
  },
  {
   "cell_type": "code",
   "execution_count": 4,
   "source": [
    "n1 =int(input(\"num 1>\"))\n",
    "n2 =int(input(\"num 2>\"))\n",
    "print(n1)\n",
    "print(type(n1))\n",
    "print(n1*n2)"
   ],
   "outputs": [
    {
     "output_type": "stream",
     "name": "stdout",
     "text": [
      "43\n",
      "<class 'int'>\n",
      "2408\n"
     ]
    }
   ],
   "metadata": {}
  },
  {
   "cell_type": "markdown",
   "source": [
    "3"
   ],
   "metadata": {}
  },
  {
   "cell_type": "code",
   "execution_count": null,
   "source": [
    "N=int(input(\"insert upper boundary\"))\n",
    "for i in range(1,N+1):\n",
    "    if(i%5==0 and i%3==0):\n",
    "        print(\"FizzBuzz\")\n",
    "        continue\n",
    "    if(i%5==0):\n",
    "        print(\"Buzz\")\n",
    "        continue\n",
    "    if(i%3==0):\n",
    "        print(\"Fizz\")\n",
    "        continue\n",
    "    print(i)\n",
    "\n",
    "\n"
   ],
   "outputs": [
    {
     "output_type": "stream",
     "name": "stdout",
     "text": [
      "1\n",
      "2\n",
      "Fizz\n",
      "4\n",
      "Buzz\n",
      "Fizz\n",
      "7\n",
      "8\n",
      "Fizz\n",
      "Buzz\n",
      "11\n",
      "Fizz\n",
      "13\n",
      "14\n",
      "FizzBuzz\n",
      "16\n",
      "17\n",
      "Fizz\n",
      "19\n",
      "Buzz\n",
      "Fizz\n",
      "22\n",
      "23\n",
      "Fizz\n",
      "Buzz\n",
      "26\n",
      "Fizz\n",
      "28\n",
      "29\n",
      "FizzBuzz\n"
     ]
    }
   ],
   "metadata": {}
  },
  {
   "cell_type": "markdown",
   "source": [
    "4"
   ],
   "metadata": {}
  },
  {
   "cell_type": "code",
   "execution_count": null,
   "source": [
    "text=input(\"insert text\")\n",
    "for i in range(len(text)):\n",
    "    print(i,text[i])"
   ],
   "outputs": [
    {
     "output_type": "stream",
     "name": "stdout",
     "text": [
      "0 f\n",
      "1 g\n",
      "2 a\n",
      "3 s\n",
      "4 d\n",
      "5 a\n",
      "6 d\n",
      "7 v\n",
      "8 z\n",
      "9 s\n"
     ]
    }
   ],
   "metadata": {}
  },
  {
   "cell_type": "markdown",
   "source": [
    "5"
   ],
   "metadata": {}
  },
  {
   "cell_type": "code",
   "execution_count": 27,
   "source": [
    "number=input(\"insert number\")\n",
    "N=len(number)\n",
    "for i in range(N):\n",
    "    if((N-i)%3==0 and i!=0):\n",
    "        print(\",\",end=\"\")\n",
    "    print(number[i],end=\"\")"
   ],
   "outputs": [
    {
     "output_type": "stream",
     "name": "stdout",
     "text": [
      "213"
     ]
    }
   ],
   "metadata": {}
  },
  {
   "cell_type": "markdown",
   "source": [
    "6"
   ],
   "metadata": {}
  },
  {
   "cell_type": "code",
   "execution_count": 1,
   "source": [
    "with open(\"./IO/fizzbuzz.txt\",\"w\") as f:\n",
    "    N=int(input(\"insert upper boundary\"))\n",
    "    a=[]\n",
    "    for i in range(1,N+1):\n",
    "        if(i%5==0 and i%3==0):\n",
    "            a.append(\"FizzBuzz\")\n",
    "            continue\n",
    "        if(i%5==0):\n",
    "            a.append(\"Buzz\")\n",
    "            continue\n",
    "        if(i%3==0):\n",
    "            a.append(\"Fizz\")\n",
    "            continue\n",
    "        a.append(str(i))\n",
    "\n",
    "    for i in a:\n",
    "        f.write(i+\"\\n\")"
   ],
   "outputs": [],
   "metadata": {}
  },
  {
   "cell_type": "markdown",
   "source": [
    "8"
   ],
   "metadata": {}
  },
  {
   "cell_type": "code",
   "execution_count": 6,
   "source": [
    "text1=input()\n",
    "print(text1[::-1])\n"
   ],
   "outputs": [
    {
     "output_type": "stream",
     "name": "stdout",
     "text": [
      "s13\n"
     ]
    }
   ],
   "metadata": {}
  },
  {
   "cell_type": "markdown",
   "source": [
    "9"
   ],
   "metadata": {}
  },
  {
   "cell_type": "code",
   "execution_count": 8,
   "source": [
    "text1=input()\n",
    "print(len(text1))"
   ],
   "outputs": [
    {
     "output_type": "stream",
     "name": "stdout",
     "text": [
      "7\n"
     ]
    }
   ],
   "metadata": {}
  },
  {
   "cell_type": "code",
   "execution_count": 1,
   "source": [
    "from math import sqrt\n",
    "x1,y1=map(int,input().split())\n",
    "x2,y2=map(int,input().split())\n",
    "print(sqrt((x2-x1)**2)+sqrt((y2-y1)**2))"
   ],
   "outputs": [
    {
     "output_type": "stream",
     "name": "stdout",
     "text": [
      "1.0\n"
     ]
    }
   ],
   "metadata": {}
  },
  {
   "cell_type": "code",
   "execution_count": 4,
   "source": [
    "\n",
    "x1,y1=map(int,input().split())\n",
    "x2,y2=map(int,input().split())\n",
    "x3,y3=map(int,input().split())\n",
    "x2,y2=x2-x1,y2-y1\n",
    "x3,y3=x3-x1,y3-y1\n",
    "print(0.5*abs(x3*y2-x2*y3))\n"
   ],
   "outputs": [
    {
     "output_type": "stream",
     "name": "stdout",
     "text": [
      "18.0\n"
     ]
    }
   ],
   "metadata": {}
  },
  {
   "cell_type": "code",
   "execution_count": 20,
   "source": [
    "from math import sqrt\n",
    "from math import floor\n",
    "def is_prime(num):\n",
    "    if(num==0 or num==1):\n",
    "        return False\n",
    "    for i in range(2,floor(sqrt(num))+1):\n",
    "        if(num%i==0):\n",
    "            return False\n",
    "    return True\n",
    "x= int(input())\n",
    "print(is_prime(x))\n",
    "\n"
   ],
   "outputs": [
    {
     "output_type": "stream",
     "name": "stdout",
     "text": [
      "False\n"
     ]
    }
   ],
   "metadata": {}
  },
  {
   "cell_type": "code",
   "execution_count": 25,
   "source": [
    "from math import sqrt\n",
    "from math import floor\n",
    "def is_prime(num):\n",
    "    if(num==0 or num==1):\n",
    "        return False\n",
    "    for i in range(2,floor(sqrt(num))+1):\n",
    "        if(num%i==0):\n",
    "            return False\n",
    "    return True\n",
    "def get_all_primes(max):\n",
    "    return [x for x in range(max+1) if is_prime(x)]\n",
    "\n",
    "x=int(input())\n",
    "print(get_all_primes(x))\n",
    "\n"
   ],
   "outputs": [
    {
     "output_type": "stream",
     "name": "stdout",
     "text": [
      "[2, 3, 5, 7, 11, 13, 17, 19, 23, 29, 31, 37, 41, 43, 47, 53, 59, 61, 67, 71, 73, 79, 83, 89, 97, 101, 103, 107, 109, 113, 127, 131, 137, 139, 149, 151, 157, 163, 167, 173, 179, 181, 191, 193, 197, 199, 211, 223, 227, 229, 233, 239, 241, 251, 257, 263, 269, 271, 277, 281, 283, 293, 307, 311, 313, 317, 331, 337, 347, 349, 353, 359, 367, 373, 379, 383, 389, 397, 401, 409, 419, 421, 431, 433, 439, 443, 449, 457, 461, 463, 467, 479, 487, 491, 499, 503, 509, 521, 523, 541, 547, 557, 563, 569, 571, 577, 587, 593, 599, 601, 607, 613, 617, 619, 631, 641, 643, 647, 653, 659, 661, 673, 677, 683, 691, 701, 709, 719, 727, 733, 739, 743, 751, 757, 761, 769, 773, 787, 797, 809, 811, 821, 823, 827, 829, 839, 853, 857, 859, 863, 877, 881, 883, 887, 907, 911, 919, 929, 937, 941, 947, 953, 967, 971, 977, 983, 991, 997]\n"
     ]
    }
   ],
   "metadata": {}
  },
  {
   "cell_type": "code",
   "execution_count": 28,
   "source": [
    "a=list(map(int,input().split()))\n",
    "a.sort()\n",
    "print(a)"
   ],
   "outputs": [
    {
     "output_type": "stream",
     "name": "stdout",
     "text": [
      "[1, 2, 3, 5, 6, 23, 29, 37, 918]\n"
     ]
    }
   ],
   "metadata": {}
  },
  {
   "cell_type": "code",
   "execution_count": 34,
   "source": [
    "a=input().replace(' ','')\n",
    "d={}\n",
    "for i in a:\n",
    "    if i in d:\n",
    "        d[i]=d[i]+1\n",
    "    else:\n",
    "        d[i]=1\n",
    "print(d)"
   ],
   "outputs": [
    {
     "output_type": "stream",
     "name": "stdout",
     "text": [
      "{'h': 1, 'e': 1, 'l': 3, 'o': 2, 'w': 1, 'r': 1, 'd': 1}\n"
     ]
    }
   ],
   "metadata": {}
  },
  {
   "cell_type": "code",
   "execution_count": 49,
   "source": [
    "fn=input()\n",
    "dict={}\n",
    "with open(fn,'r') as f:\n",
    "    wordlist=[j for i in f.readlines() for j in i.strip().split()]\n",
    "    for i in wordlist:\n",
    "        if i in dict:\n",
    "            dict[i]+=1\n",
    "        else:\n",
    "            dict[i]=1\n",
    "print(dict)"
   ],
   "outputs": [
    {
     "output_type": "stream",
     "name": "stdout",
     "text": [
      "{'1': 1, '2': 1, 'Fizz': 18, '4': 1, 'Buzz': 9, '7': 1, '8': 1, '11': 1, '13': 1, '14': 1, 'FizzBuzz': 4, '16': 1, '17': 1, '19': 1, '22': 1, '23': 1, '26': 1, '28': 1, '29': 1, '31': 1, '32': 1, '34': 1, '37': 1, '38': 1, '41': 1, '43': 1, '44': 1, '46': 1, '47': 1, '49': 1, '52': 1, '53': 1, '56': 1, '58': 1, '59': 1, '61': 1, '62': 1, '64': 1, '67': 1}\n"
     ]
    }
   ],
   "metadata": {}
  },
  {
   "cell_type": "code",
   "execution_count": 59,
   "source": [
    "s1,s2=input().split()\n",
    "count=0\n",
    "for i in range(len(s1)-len(s2)+1):\n",
    "    if s2==s1[i:i+2]:\n",
    "        count+=1\n",
    "print(count)\n"
   ],
   "outputs": [
    {
     "output_type": "stream",
     "name": "stdout",
     "text": [
      "2\n"
     ]
    }
   ],
   "metadata": {}
  },
  {
   "cell_type": "code",
   "execution_count": 61,
   "source": [
    "N=input()\n",
    "arr=list(map(int,input().split()))\n",
    "src=int(input())\n",
    "print(src in arr)"
   ],
   "outputs": [
    {
     "output_type": "stream",
     "name": "stdout",
     "text": [
      "True\n"
     ]
    }
   ],
   "metadata": {}
  },
  {
   "cell_type": "markdown",
   "source": [
    "20"
   ],
   "metadata": {}
  },
  {
   "cell_type": "code",
   "execution_count": 1,
   "source": [
    "from math import tan\n",
    "\n",
    "def cot(theta):\n",
    "    return 1/tan(theta)\n",
    "\n"
   ],
   "outputs": [],
   "metadata": {}
  },
  {
   "cell_type": "code",
   "execution_count": 2,
   "source": [
    "def square_root(x):\n",
    "    return x**(1/2)"
   ],
   "outputs": [],
   "metadata": {}
  },
  {
   "cell_type": "code",
   "execution_count": 27,
   "source": [
    "from random import randrange\n",
    "print(randrange(1,7))"
   ],
   "outputs": [
    {
     "output_type": "stream",
     "name": "stdout",
     "text": [
      "1\n"
     ]
    }
   ],
   "metadata": {}
  },
  {
   "cell_type": "code",
   "execution_count": 29,
   "source": [
    "from random import randint\n",
    "a = [randint(0,100) for i in range(100)]\n",
    "print(a)"
   ],
   "outputs": [
    {
     "output_type": "stream",
     "name": "stdout",
     "text": [
      "[94, 83, 36, 75, 70, 78, 10, 1, 81, 28, 22, 78, 17, 32, 22, 93, 67, 29, 33, 17, 58, 14, 10, 54, 17, 38, 17, 85, 81, 62, 9, 80, 86, 21, 58, 83, 18, 11, 74, 65, 90, 77, 87, 46, 29, 66, 72, 59, 52, 15, 29, 48, 47, 81, 67, 47, 30, 87, 28, 56, 19, 49, 54, 18, 95, 69, 70, 60, 66, 67, 64, 42, 86, 24, 93, 91, 2, 80, 43, 37, 1, 87, 64, 24, 67, 58, 9, 32, 69, 83, 64, 21, 82, 94, 77, 42, 55, 100, 22, 56]\n"
     ]
    }
   ],
   "metadata": {}
  },
  {
   "cell_type": "code",
   "execution_count": 36,
   "source": [
    "import numpy as np\n",
    "a=np.array(list(map(float,input().split())));\n",
    "print(np.mean(a))\n",
    "print(np.std(a))\n",
    "print(type(a))\n"
   ],
   "outputs": [
    {
     "output_type": "stream",
     "name": "stdout",
     "text": [
      "90.33833333333335\n",
      "5.462354244177949\n",
      "<class 'numpy.ndarray'>\n"
     ]
    }
   ],
   "metadata": {}
  },
  {
   "cell_type": "markdown",
   "source": [
    "25"
   ],
   "metadata": {}
  },
  {
   "cell_type": "code",
   "execution_count": 39,
   "source": [
    "import numpy as np\n",
    "def transA(x):\n",
    "    x_np=np.reshape(np.matrix(x),(2,1))\n",
    "    A=[[1,3],[7,6]]\n",
    "    A_np=np.reshape(np.matrix(A),(2,2))\n",
    "    return np.reshape(A_np*x_np,(1,-1))\n",
    "\n",
    "x=list(map(float,input().split()))\n",
    "print(transA(x))"
   ],
   "outputs": [
    {
     "output_type": "stream",
     "name": "stdout",
     "text": [
      "[[11. 32.]]\n"
     ]
    }
   ],
   "metadata": {}
  },
  {
   "cell_type": "markdown",
   "source": [
    "26"
   ],
   "metadata": {}
  },
  {
   "cell_type": "code",
   "execution_count": 53,
   "source": [
    "import numpy as np\n",
    "def transA(A,x,m,d):\n",
    "    x_np=np.reshape(np.matrix(x),(-1,1))\n",
    "    A_np=np.reshape(np.matrix(A),(m,d))\n",
    "    return np.reshape(A_np*x_np,(-1))\n",
    "\n",
    "with open(\"./IO/in26\",\"r\") as f:\n",
    "    d,m=map(int,f.readline().split())\n",
    "    e=list(map(int,f.readline().split()))\n",
    "    A=[list(map(int,f.readline().split())) for i in range(m)]\n",
    "    print(transA(A,e,m,d))"
   ],
   "outputs": [
    {
     "output_type": "stream",
     "name": "stdout",
     "text": [
      "[[30 50 38]]\n"
     ]
    }
   ],
   "metadata": {}
  },
  {
   "cell_type": "markdown",
   "source": [
    "27"
   ],
   "metadata": {}
  },
  {
   "cell_type": "code",
   "execution_count": null,
   "source": [],
   "outputs": [],
   "metadata": {}
  }
 ],
 "metadata": {
  "interpreter": {
   "hash": "50a13140c5358db837e7d7cdc12e24c9cfbb5f58e02f3296dcd8fc6eed3e7049"
  },
  "kernelspec": {
   "name": "python3",
   "display_name": "Python 3.9.7 64-bit ('main': conda)"
  },
  "language_info": {
   "codemirror_mode": {
    "name": "ipython",
    "version": 3
   },
   "file_extension": ".py",
   "mimetype": "text/x-python",
   "name": "python",
   "nbconvert_exporter": "python",
   "pygments_lexer": "ipython3",
   "version": "3.9.7"
  },
  "orig_nbformat": 4
 },
 "nbformat": 4,
 "nbformat_minor": 2
}