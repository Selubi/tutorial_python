{
 "cells": [
  {
   "cell_type": "code",
   "execution_count": 57,
   "source": [
    "import numpy as np\n",
    "import pandas as pd\n",
    "import scipy.optimize as op\n",
    "from sklearn.linear_model import Ridge\n",
    "from sklearn.model_selection import GridSearchCV\n",
    "from sklearn.base import BaseEstimator, RegressorMixin\n",
    "from sklearn.utils.validation import check_X_y, check_is_fitted, check_array\n",
    "import warnings\n",
    "warnings.filterwarnings('ignore') # 実行に影響のない　warninig　を非表示にします. 非推奨."
   ],
   "outputs": [],
   "metadata": {}
  },
  {
   "cell_type": "code",
   "execution_count": 58,
   "source": [
    "\n",
    "class MyLinearRegression(BaseEstimator, RegressorMixin):\n",
    "    def __init__(self, lam=0):\n",
    "        \"\"\"\n",
    "        Initialize a coefficient and an intercept.\n",
    "        \"\"\"\n",
    "        self.lam = lam\n",
    "\n",
    "    def fit(self, X, y):\n",
    "        \"\"\"\n",
    "        X: array-like, shape (n_samples, n_features)\n",
    "        y: array, shape (n_samples,)\n",
    "        Estimate a coefficient and an intercept　from data.\n",
    "        \"\"\"\n",
    "        X, y = check_X_y(X, y, y_numeric=True)\n",
    "\n",
    "        X_ = np.append(X, [[1] for i in range(len(X))], axis=1)\n",
    "        coef = np.array([1 for i in range(len(X_[0]))])\n",
    "\n",
    "        def f(params):\n",
    "            return ((y-np.matmul(X_, params)) ** 2).sum()+self.lam*(params**2).sum()\n",
    "\n",
    "        res = op.minimize(f, coef)\n",
    "\n",
    "        self.coef_ = res.x[:-1]\n",
    "        self.intercept_ = res.x[-1]\n",
    "        return self\n",
    "\n",
    "    def predict(self, X):\n",
    "        \"\"\"\n",
    "        Calc y from X\n",
    "        \"\"\"\n",
    "        check_is_fitted(self, \"coef_\", \"intercept_\")  # 学習済みかチェックする(推奨)\n",
    "        X = check_array(X)\n",
    "        X_ = np.append(X, [[1] for i in range(len(X))], axis=1)\n",
    "        y = np.matmul(X_, np.append(self.coef_,self.intercept_))\n",
    "        return y\n"
   ],
   "outputs": [],
   "metadata": {}
  },
  {
   "cell_type": "code",
   "execution_count": 59,
   "source": [
    "X_train=pd.read_csv(\"../text/data/X_train.csv\")\n",
    "y_train=pd.read_csv(\"../text/data/y_train.csv\")\n",
    "\n",
    "X_test=pd.read_csv(\"../text/data/X_test.csv\")\n",
    "X=X_train.drop(\"最多風向\",axis=1).values\n",
    "y=np.ravel(y_train.values)\n",
    "# print(X)\n",
    "# print(y)\n",
    "# y_train.head()\n",
    "# print(y)"
   ],
   "outputs": [],
   "metadata": {}
  },
  {
   "cell_type": "code",
   "execution_count": 60,
   "source": [
    "X=X-X.mean()\n",
    "y=y-y.mean()"
   ],
   "outputs": [],
   "metadata": {}
  },
  {
   "cell_type": "code",
   "execution_count": 61,
   "source": [
    "clf=MyLinearRegression()\n",
    "clf.fit(X,y)\n",
    "print(clf.coef_)\n",
    "print(clf.intercept_)"
   ],
   "outputs": [
    {
     "output_type": "stream",
     "name": "stdout",
     "text": [
      "[-0.36710079  1.46229318 -0.891735    0.03603802  2.34559292 -0.83520083\n",
      " -0.3473535  -0.1104787  -0.09079284 -0.04601216  0.71083359 -0.92886547\n",
      "  0.05869408]\n",
      "417.6345934245475\n"
     ]
    }
   ],
   "metadata": {}
  },
  {
   "cell_type": "code",
   "execution_count": 67,
   "source": [
    "# Grid search of Ridge()\n",
    "parameters = {'alpha':np.arange(-5000,5000)}\n",
    "print(parameters)\n",
    "reg = GridSearchCV(Ridge(),parameters,cv=5)\n",
    "reg.fit(X,y)\n",
    "best = reg.best_estimator_\n",
    "# 決定係数\n",
    "print(\"決定係数: \", best.score(X, y)) # BaseEstimatorを継承しているため使える\n",
    "# lambda\n",
    "print(\"lam: \", best.alpha)"
   ],
   "outputs": [
    {
     "output_type": "stream",
     "name": "stdout",
     "text": [
      "{'alpha': array([-5000, -4999, -4998, ...,  4997,  4998,  4999])}\n"
     ]
    }
   ],
   "metadata": {}
  },
  {
   "cell_type": "code",
   "execution_count": 65,
   "source": [
    "# Grid search of MyLinearRegression\n",
    "parameters = {'lam':np.arange(-5000,5000)}\n",
    "print(parameters)\n",
    "reg = GridSearchCV(MyLinearRegression(),parameters,cv=5)\n",
    "reg.fit(X,y)\n",
    "best = reg.best_estimator_\n",
    "# 決定係数\n",
    "print(\"決定係数: \", best.score(X, y)) # BaseEstimatorを継承しているため使える\n",
    "# lambda\n",
    "print(\"lam: \", best.lam)"
   ],
   "outputs": [
    {
     "output_type": "stream",
     "name": "stdout",
     "text": [
      "{'lam': array([9.35762297e-14, 2.54366565e-13, 6.91440011e-13, 1.87952882e-12,\n",
      "       5.10908903e-12, 1.38879439e-11, 3.77513454e-11, 1.02618796e-10,\n",
      "       2.78946809e-10, 7.58256043e-10, 2.06115362e-09, 5.60279644e-09,\n",
      "       1.52299797e-08, 4.13993772e-08, 1.12535175e-07, 3.05902321e-07,\n",
      "       8.31528719e-07, 2.26032941e-06, 6.14421235e-06, 1.67017008e-05,\n",
      "       4.53999298e-05, 1.23409804e-04, 3.35462628e-04, 9.11881966e-04,\n",
      "       2.47875218e-03, 6.73794700e-03, 1.83156389e-02, 4.97870684e-02,\n",
      "       1.35335283e-01, 3.67879441e-01, 1.00000000e+00, 2.71828183e+00,\n",
      "       7.38905610e+00, 2.00855369e+01, 5.45981500e+01, 1.48413159e+02,\n",
      "       4.03428793e+02, 1.09663316e+03, 2.98095799e+03, 8.10308393e+03,\n",
      "       2.20264658e+04, 5.98741417e+04, 1.62754791e+05, 4.42413392e+05,\n",
      "       1.20260428e+06, 3.26901737e+06, 8.88611052e+06, 2.41549528e+07,\n",
      "       6.56599691e+07, 1.78482301e+08, 4.85165195e+08, 1.31881573e+09,\n",
      "       3.58491285e+09, 9.74480345e+09, 2.64891221e+10, 7.20048993e+10,\n",
      "       1.95729609e+11, 5.32048241e+11, 1.44625706e+12, 3.93133430e+12])}\n",
      "決定係数:  0.637669478501064\n",
      "lam:  1096.6331584284585\n"
     ]
    }
   ],
   "metadata": {}
  },
  {
   "cell_type": "code",
   "execution_count": 66,
   "source": [
    "from sklearn.decomposition import PCA\n",
    "pca=PCA(n_components=2)\n",
    "X_pca=pca.fit_transform(X)\n",
    "print(X_pca.shape)\n",
    "print(pca.explained_variance_ratio_)\n",
    "print(pca.components_)"
   ],
   "outputs": [
    {
     "output_type": "stream",
     "name": "stdout",
     "text": [
      "(28, 2)\n",
      "[0.58387849 0.27085845]\n",
      "[[ 0.01676688  0.03082961  0.0143759   0.93738159  0.01972845  0.06350653\n",
      "   0.14646301  0.0549713   0.10304277  0.02650805 -0.11122719 -0.11168056\n",
      "  -0.23413121]\n",
      " [ 0.07622884  0.11850467  0.04265574  0.03057731  0.01751759  0.05344412\n",
      "   0.10303293 -0.05285351 -0.55808295 -0.79890643 -0.0221221  -0.02302409\n",
      "  -0.10045567]]\n"
     ]
    }
   ],
   "metadata": {}
  },
  {
   "cell_type": "code",
   "execution_count": null,
   "source": [],
   "outputs": [],
   "metadata": {}
  }
 ],
 "metadata": {
  "orig_nbformat": 4,
  "language_info": {
   "name": "python",
   "version": "3.9.7",
   "mimetype": "text/x-python",
   "codemirror_mode": {
    "name": "ipython",
    "version": 3
   },
   "pygments_lexer": "ipython3",
   "nbconvert_exporter": "python",
   "file_extension": ".py"
  },
  "kernelspec": {
   "name": "python3",
   "display_name": "Python 3.9.7 64-bit ('main': conda)"
  },
  "interpreter": {
   "hash": "50a13140c5358db837e7d7cdc12e24c9cfbb5f58e02f3296dcd8fc6eed3e7049"
  }
 },
 "nbformat": 4,
 "nbformat_minor": 2
}